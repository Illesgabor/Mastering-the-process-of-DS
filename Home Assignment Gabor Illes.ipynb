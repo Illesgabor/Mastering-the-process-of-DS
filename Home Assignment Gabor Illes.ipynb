{
 "cells": [
  {
   "cell_type": "markdown",
   "metadata": {},
   "source": [
    "# Home Assignment - Mastering the Process of Data Science\n",
    "### by Gabor Illes"
   ]
  },
  {
   "cell_type": "markdown",
   "metadata": {},
   "source": [
    "### 1.\tRead and prepare Drinks.csv"
   ]
  },
  {
   "cell_type": "code",
   "execution_count": 1,
   "metadata": {},
   "outputs": [],
   "source": [
    "import pandas as pd\n",
    "import numpy as np\n",
    "import seaborn as sns\n",
    "import matplotlib.pyplot as plt\n",
    "%matplotlib inline"
   ]
  },
  {
   "cell_type": "code",
   "execution_count": 2,
   "metadata": {},
   "outputs": [
    {
     "data": {
      "text/html": [
       "<div>\n",
       "<style scoped>\n",
       "    .dataframe tbody tr th:only-of-type {\n",
       "        vertical-align: middle;\n",
       "    }\n",
       "\n",
       "    .dataframe tbody tr th {\n",
       "        vertical-align: top;\n",
       "    }\n",
       "\n",
       "    .dataframe thead th {\n",
       "        text-align: right;\n",
       "    }\n",
       "</style>\n",
       "<table border=\"1\" class=\"dataframe\">\n",
       "  <thead>\n",
       "    <tr style=\"text-align: right;\">\n",
       "      <th></th>\n",
       "      <th>country</th>\n",
       "      <th>beer_servings</th>\n",
       "      <th>spirit_servings</th>\n",
       "      <th>wine_servings</th>\n",
       "      <th>total_litres_of_pure_alcohol</th>\n",
       "    </tr>\n",
       "  </thead>\n",
       "  <tbody>\n",
       "    <tr>\n",
       "      <th>0</th>\n",
       "      <td>Afghanistan</td>\n",
       "      <td>0</td>\n",
       "      <td>0</td>\n",
       "      <td>0</td>\n",
       "      <td>NaN</td>\n",
       "    </tr>\n",
       "    <tr>\n",
       "      <th>1</th>\n",
       "      <td>Albania</td>\n",
       "      <td>89</td>\n",
       "      <td>132</td>\n",
       "      <td>54</td>\n",
       "      <td>NaN</td>\n",
       "    </tr>\n",
       "    <tr>\n",
       "      <th>2</th>\n",
       "      <td>Algeria</td>\n",
       "      <td>25</td>\n",
       "      <td>0</td>\n",
       "      <td>14</td>\n",
       "      <td>NaN</td>\n",
       "    </tr>\n",
       "    <tr>\n",
       "      <th>3</th>\n",
       "      <td>Andorra</td>\n",
       "      <td>245</td>\n",
       "      <td>138</td>\n",
       "      <td>312</td>\n",
       "      <td>NaN</td>\n",
       "    </tr>\n",
       "    <tr>\n",
       "      <th>4</th>\n",
       "      <td>Angola</td>\n",
       "      <td>217</td>\n",
       "      <td>57</td>\n",
       "      <td>45</td>\n",
       "      <td>NaN</td>\n",
       "    </tr>\n",
       "  </tbody>\n",
       "</table>\n",
       "</div>"
      ],
      "text/plain": [
       "       country beer_servings spirit_servings wine_servings  \\\n",
       "0  Afghanistan             0               0             0   \n",
       "1      Albania            89             132            54   \n",
       "2      Algeria            25               0            14   \n",
       "3      Andorra           245             138           312   \n",
       "4       Angola           217              57            45   \n",
       "\n",
       "   total_litres_of_pure_alcohol  \n",
       "0                           NaN  \n",
       "1                           NaN  \n",
       "2                           NaN  \n",
       "3                           NaN  \n",
       "4                           NaN  "
      ]
     },
     "execution_count": 2,
     "metadata": {},
     "output_type": "execute_result"
    }
   ],
   "source": [
    "drinks = pd.read_csv(\"Drinks.csv\")\n",
    "drinks.head()"
   ]
  },
  {
   "cell_type": "code",
   "execution_count": 3,
   "metadata": {},
   "outputs": [
    {
     "name": "stdout",
     "output_type": "stream",
     "text": [
      "<class 'pandas.core.frame.DataFrame'>\n",
      "RangeIndex: 193 entries, 0 to 192\n",
      "Data columns (total 5 columns):\n",
      "country                         193 non-null object\n",
      "beer_servings                   193 non-null object\n",
      "spirit_servings                 193 non-null object\n",
      "wine_servings                   193 non-null object\n",
      "total_litres_of_pure_alcohol    0 non-null float64\n",
      "dtypes: float64(1), object(4)\n",
      "memory usage: 7.6+ KB\n"
     ]
    }
   ],
   "source": [
    "drinks.info()"
   ]
  },
  {
   "cell_type": "code",
   "execution_count": 4,
   "metadata": {},
   "outputs": [
    {
     "name": "stdout",
     "output_type": "stream",
     "text": [
      "<class 'pandas.core.frame.DataFrame'>\n",
      "RangeIndex: 193 entries, 0 to 192\n",
      "Data columns (total 5 columns):\n",
      "country                         193 non-null object\n",
      "beer_servings                   192 non-null float64\n",
      "spirit_servings                 192 non-null float64\n",
      "wine_servings                   192 non-null float64\n",
      "total_litres_of_pure_alcohol    0 non-null float64\n",
      "dtypes: float64(4), object(1)\n",
      "memory usage: 7.6+ KB\n"
     ]
    }
   ],
   "source": [
    "drinks['beer_servings'] = pd.to_numeric(drinks['beer_servings'], errors= \"coerce\")\n",
    "drinks['spirit_servings'] = pd.to_numeric(drinks['spirit_servings'], errors= \"coerce\")\n",
    "drinks['wine_servings'] = pd.to_numeric(drinks['wine_servings'], errors= \"coerce\")\n",
    "\n",
    "drinks.info()"
   ]
  },
  {
   "cell_type": "code",
   "execution_count": 5,
   "metadata": {},
   "outputs": [
    {
     "data": {
      "text/html": [
       "<div>\n",
       "<style scoped>\n",
       "    .dataframe tbody tr th:only-of-type {\n",
       "        vertical-align: middle;\n",
       "    }\n",
       "\n",
       "    .dataframe tbody tr th {\n",
       "        vertical-align: top;\n",
       "    }\n",
       "\n",
       "    .dataframe thead th {\n",
       "        text-align: right;\n",
       "    }\n",
       "</style>\n",
       "<table border=\"1\" class=\"dataframe\">\n",
       "  <thead>\n",
       "    <tr style=\"text-align: right;\">\n",
       "      <th></th>\n",
       "      <th>beer_servings</th>\n",
       "      <th>spirit_servings</th>\n",
       "      <th>wine_servings</th>\n",
       "      <th>total_litres_of_pure_alcohol</th>\n",
       "    </tr>\n",
       "  </thead>\n",
       "  <tbody>\n",
       "    <tr>\n",
       "      <th>count</th>\n",
       "      <td>192.000000</td>\n",
       "      <td>192.000000</td>\n",
       "      <td>192.000000</td>\n",
       "      <td>0.0</td>\n",
       "    </tr>\n",
       "    <tr>\n",
       "      <th>mean</th>\n",
       "      <td>106.161458</td>\n",
       "      <td>80.994792</td>\n",
       "      <td>49.442708</td>\n",
       "      <td>NaN</td>\n",
       "    </tr>\n",
       "    <tr>\n",
       "      <th>std</th>\n",
       "      <td>101.407529</td>\n",
       "      <td>88.515121</td>\n",
       "      <td>79.905880</td>\n",
       "      <td>NaN</td>\n",
       "    </tr>\n",
       "    <tr>\n",
       "      <th>min</th>\n",
       "      <td>0.000000</td>\n",
       "      <td>0.000000</td>\n",
       "      <td>0.000000</td>\n",
       "      <td>NaN</td>\n",
       "    </tr>\n",
       "    <tr>\n",
       "      <th>25%</th>\n",
       "      <td>20.000000</td>\n",
       "      <td>4.000000</td>\n",
       "      <td>1.000000</td>\n",
       "      <td>NaN</td>\n",
       "    </tr>\n",
       "    <tr>\n",
       "      <th>50%</th>\n",
       "      <td>73.500000</td>\n",
       "      <td>55.500000</td>\n",
       "      <td>8.000000</td>\n",
       "      <td>NaN</td>\n",
       "    </tr>\n",
       "    <tr>\n",
       "      <th>75%</th>\n",
       "      <td>189.000000</td>\n",
       "      <td>128.750000</td>\n",
       "      <td>59.750000</td>\n",
       "      <td>NaN</td>\n",
       "    </tr>\n",
       "    <tr>\n",
       "      <th>max</th>\n",
       "      <td>376.000000</td>\n",
       "      <td>438.000000</td>\n",
       "      <td>370.000000</td>\n",
       "      <td>NaN</td>\n",
       "    </tr>\n",
       "  </tbody>\n",
       "</table>\n",
       "</div>"
      ],
      "text/plain": [
       "       beer_servings  spirit_servings  wine_servings  \\\n",
       "count     192.000000       192.000000     192.000000   \n",
       "mean      106.161458        80.994792      49.442708   \n",
       "std       101.407529        88.515121      79.905880   \n",
       "min         0.000000         0.000000       0.000000   \n",
       "25%        20.000000         4.000000       1.000000   \n",
       "50%        73.500000        55.500000       8.000000   \n",
       "75%       189.000000       128.750000      59.750000   \n",
       "max       376.000000       438.000000     370.000000   \n",
       "\n",
       "       total_litres_of_pure_alcohol  \n",
       "count                           0.0  \n",
       "mean                            NaN  \n",
       "std                             NaN  \n",
       "min                             NaN  \n",
       "25%                             NaN  \n",
       "50%                             NaN  \n",
       "75%                             NaN  \n",
       "max                             NaN  "
      ]
     },
     "execution_count": 5,
     "metadata": {},
     "output_type": "execute_result"
    }
   ],
   "source": [
    "drinks.describe()"
   ]
  },
  {
   "cell_type": "code",
   "execution_count": null,
   "metadata": {},
   "outputs": [],
   "source": []
  },
  {
   "cell_type": "markdown",
   "metadata": {},
   "source": [
    "### 2.\tCalculate total liters of pure alcohol using the following information:\n",
    "o\t1 ounce = 0.0295 l\n",
    "\n",
    "o\tBeer serving: 12 ounces, 5% alcohol\n",
    "\n",
    "o\tWine serving: 5 ounces, 12% alcohol\n",
    "\n",
    "o\tSpirit serving: 1.5 ounces 40% alcohol\n"
   ]
  },
  {
   "cell_type": "code",
   "execution_count": 6,
   "metadata": {},
   "outputs": [],
   "source": [
    "ounce = 0.0295\n",
    "beer_0 = 12\n",
    "beer_a = 0.05\n",
    "wine_o = 5\n",
    "wine_a = 0.12\n",
    "spirit_o = 1.5\n",
    "spirit_a = 0.4\n",
    "beer = ounce*beer_0*beer_a\n",
    "wine = ounce*wine_o*wine_a\n",
    "spirit = ounce*spirit_o*spirit_a"
   ]
  },
  {
   "cell_type": "code",
   "execution_count": 7,
   "metadata": {},
   "outputs": [
    {
     "data": {
      "text/html": [
       "<div>\n",
       "<style scoped>\n",
       "    .dataframe tbody tr th:only-of-type {\n",
       "        vertical-align: middle;\n",
       "    }\n",
       "\n",
       "    .dataframe tbody tr th {\n",
       "        vertical-align: top;\n",
       "    }\n",
       "\n",
       "    .dataframe thead th {\n",
       "        text-align: right;\n",
       "    }\n",
       "</style>\n",
       "<table border=\"1\" class=\"dataframe\">\n",
       "  <thead>\n",
       "    <tr style=\"text-align: right;\">\n",
       "      <th></th>\n",
       "      <th>country</th>\n",
       "      <th>beer_servings</th>\n",
       "      <th>spirit_servings</th>\n",
       "      <th>wine_servings</th>\n",
       "      <th>total_litres_of_pure_alcohol</th>\n",
       "    </tr>\n",
       "  </thead>\n",
       "  <tbody>\n",
       "    <tr>\n",
       "      <th>0</th>\n",
       "      <td>Afghanistan</td>\n",
       "      <td>0.0</td>\n",
       "      <td>0.0</td>\n",
       "      <td>0.0</td>\n",
       "      <td>0.0000</td>\n",
       "    </tr>\n",
       "    <tr>\n",
       "      <th>1</th>\n",
       "      <td>Albania</td>\n",
       "      <td>89.0</td>\n",
       "      <td>132.0</td>\n",
       "      <td>54.0</td>\n",
       "      <td>4.8675</td>\n",
       "    </tr>\n",
       "    <tr>\n",
       "      <th>2</th>\n",
       "      <td>Algeria</td>\n",
       "      <td>25.0</td>\n",
       "      <td>0.0</td>\n",
       "      <td>14.0</td>\n",
       "      <td>0.6903</td>\n",
       "    </tr>\n",
       "    <tr>\n",
       "      <th>3</th>\n",
       "      <td>Andorra</td>\n",
       "      <td>245.0</td>\n",
       "      <td>138.0</td>\n",
       "      <td>312.0</td>\n",
       "      <td>12.3015</td>\n",
       "    </tr>\n",
       "    <tr>\n",
       "      <th>4</th>\n",
       "      <td>Angola</td>\n",
       "      <td>217.0</td>\n",
       "      <td>57.0</td>\n",
       "      <td>45.0</td>\n",
       "      <td>5.6463</td>\n",
       "    </tr>\n",
       "  </tbody>\n",
       "</table>\n",
       "</div>"
      ],
      "text/plain": [
       "       country  beer_servings  spirit_servings  wine_servings  \\\n",
       "0  Afghanistan            0.0              0.0            0.0   \n",
       "1      Albania           89.0            132.0           54.0   \n",
       "2      Algeria           25.0              0.0           14.0   \n",
       "3      Andorra          245.0            138.0          312.0   \n",
       "4       Angola          217.0             57.0           45.0   \n",
       "\n",
       "   total_litres_of_pure_alcohol  \n",
       "0                        0.0000  \n",
       "1                        4.8675  \n",
       "2                        0.6903  \n",
       "3                       12.3015  \n",
       "4                        5.6463  "
      ]
     },
     "execution_count": 7,
     "metadata": {},
     "output_type": "execute_result"
    }
   ],
   "source": [
    "drinks[\"total_litres_of_pure_alcohol\"]= drinks['beer_servings']*beer + \\\n",
    "    drinks['wine_servings']*wine + drinks['spirit_servings']*spirit\n",
    "\n",
    "drinks.head()"
   ]
  },
  {
   "cell_type": "code",
   "execution_count": 8,
   "metadata": {},
   "outputs": [
    {
     "data": {
      "text/plain": [
       "(193, 5)"
      ]
     },
     "execution_count": 8,
     "metadata": {},
     "output_type": "execute_result"
    }
   ],
   "source": [
    "drinks.shape"
   ]
  },
  {
   "cell_type": "code",
   "execution_count": 9,
   "metadata": {},
   "outputs": [
    {
     "data": {
      "text/html": [
       "<div>\n",
       "<style scoped>\n",
       "    .dataframe tbody tr th:only-of-type {\n",
       "        vertical-align: middle;\n",
       "    }\n",
       "\n",
       "    .dataframe tbody tr th {\n",
       "        vertical-align: top;\n",
       "    }\n",
       "\n",
       "    .dataframe thead th {\n",
       "        text-align: right;\n",
       "    }\n",
       "</style>\n",
       "<table border=\"1\" class=\"dataframe\">\n",
       "  <thead>\n",
       "    <tr style=\"text-align: right;\">\n",
       "      <th></th>\n",
       "      <th>beer_servings</th>\n",
       "      <th>spirit_servings</th>\n",
       "      <th>wine_servings</th>\n",
       "      <th>total_litres_of_pure_alcohol</th>\n",
       "    </tr>\n",
       "  </thead>\n",
       "  <tbody>\n",
       "    <tr>\n",
       "      <th>count</th>\n",
       "      <td>192.000000</td>\n",
       "      <td>192.000000</td>\n",
       "      <td>192.000000</td>\n",
       "      <td>190.000000</td>\n",
       "    </tr>\n",
       "    <tr>\n",
       "      <th>mean</th>\n",
       "      <td>106.161458</td>\n",
       "      <td>80.994792</td>\n",
       "      <td>49.442708</td>\n",
       "      <td>4.146831</td>\n",
       "    </tr>\n",
       "    <tr>\n",
       "      <th>std</th>\n",
       "      <td>101.407529</td>\n",
       "      <td>88.515121</td>\n",
       "      <td>79.905880</td>\n",
       "      <td>3.704184</td>\n",
       "    </tr>\n",
       "    <tr>\n",
       "      <th>min</th>\n",
       "      <td>0.000000</td>\n",
       "      <td>0.000000</td>\n",
       "      <td>0.000000</td>\n",
       "      <td>0.000000</td>\n",
       "    </tr>\n",
       "    <tr>\n",
       "      <th>25%</th>\n",
       "      <td>20.000000</td>\n",
       "      <td>4.000000</td>\n",
       "      <td>1.000000</td>\n",
       "      <td>0.796500</td>\n",
       "    </tr>\n",
       "    <tr>\n",
       "      <th>50%</th>\n",
       "      <td>73.500000</td>\n",
       "      <td>55.500000</td>\n",
       "      <td>8.000000</td>\n",
       "      <td>2.955900</td>\n",
       "    </tr>\n",
       "    <tr>\n",
       "      <th>75%</th>\n",
       "      <td>189.000000</td>\n",
       "      <td>128.750000</td>\n",
       "      <td>59.750000</td>\n",
       "      <td>6.907425</td>\n",
       "    </tr>\n",
       "    <tr>\n",
       "      <th>max</th>\n",
       "      <td>376.000000</td>\n",
       "      <td>438.000000</td>\n",
       "      <td>370.000000</td>\n",
       "      <td>12.301500</td>\n",
       "    </tr>\n",
       "  </tbody>\n",
       "</table>\n",
       "</div>"
      ],
      "text/plain": [
       "       beer_servings  spirit_servings  wine_servings  \\\n",
       "count     192.000000       192.000000     192.000000   \n",
       "mean      106.161458        80.994792      49.442708   \n",
       "std       101.407529        88.515121      79.905880   \n",
       "min         0.000000         0.000000       0.000000   \n",
       "25%        20.000000         4.000000       1.000000   \n",
       "50%        73.500000        55.500000       8.000000   \n",
       "75%       189.000000       128.750000      59.750000   \n",
       "max       376.000000       438.000000     370.000000   \n",
       "\n",
       "       total_litres_of_pure_alcohol  \n",
       "count                    190.000000  \n",
       "mean                       4.146831  \n",
       "std                        3.704184  \n",
       "min                        0.000000  \n",
       "25%                        0.796500  \n",
       "50%                        2.955900  \n",
       "75%                        6.907425  \n",
       "max                       12.301500  "
      ]
     },
     "execution_count": 9,
     "metadata": {},
     "output_type": "execute_result"
    }
   ],
   "source": [
    "drinks.describe()"
   ]
  },
  {
   "cell_type": "code",
   "execution_count": null,
   "metadata": {},
   "outputs": [],
   "source": []
  },
  {
   "cell_type": "markdown",
   "metadata": {},
   "source": [
    "### 3.\tRead, understand and prepare LifeExpectancy.csv"
   ]
  },
  {
   "cell_type": "code",
   "execution_count": 10,
   "metadata": {
    "scrolled": false
   },
   "outputs": [
    {
     "data": {
      "text/html": [
       "<div>\n",
       "<style scoped>\n",
       "    .dataframe tbody tr th:only-of-type {\n",
       "        vertical-align: middle;\n",
       "    }\n",
       "\n",
       "    .dataframe tbody tr th {\n",
       "        vertical-align: top;\n",
       "    }\n",
       "\n",
       "    .dataframe thead th {\n",
       "        text-align: right;\n",
       "    }\n",
       "</style>\n",
       "<table border=\"1\" class=\"dataframe\">\n",
       "  <thead>\n",
       "    <tr style=\"text-align: right;\">\n",
       "      <th></th>\n",
       "      <th>GhoCode</th>\n",
       "      <th>GhoDisplay</th>\n",
       "      <th>PublishStateCode</th>\n",
       "      <th>PublishStateDisplay</th>\n",
       "      <th>YearCode</th>\n",
       "      <th>YearDisplay</th>\n",
       "      <th>RegionCode</th>\n",
       "      <th>RegionDisplay</th>\n",
       "      <th>WorldBankIncomeGroupGroupCode</th>\n",
       "      <th>WorldBankIncomeGroupDisplay</th>\n",
       "      <th>CountryCode</th>\n",
       "      <th>CountryDisplay</th>\n",
       "      <th>SexCode</th>\n",
       "      <th>SexDisplay</th>\n",
       "      <th>DisplayValue</th>\n",
       "      <th>Numeric</th>\n",
       "    </tr>\n",
       "  </thead>\n",
       "  <tbody>\n",
       "    <tr>\n",
       "      <th>0</th>\n",
       "      <td>WHOSIS_000001</td>\n",
       "      <td>Life expectancy at birth (years)</td>\n",
       "      <td>PUBLISHED</td>\n",
       "      <td>Published</td>\n",
       "      <td>2013</td>\n",
       "      <td>2013</td>\n",
       "      <td>EMR</td>\n",
       "      <td>Eastern Mediterranean</td>\n",
       "      <td>NaN</td>\n",
       "      <td>NaN</td>\n",
       "      <td>AFG</td>\n",
       "      <td>Afghanistan</td>\n",
       "      <td>BTSX</td>\n",
       "      <td>Both sexes</td>\n",
       "      <td>61</td>\n",
       "      <td>61.25205</td>\n",
       "    </tr>\n",
       "    <tr>\n",
       "      <th>1</th>\n",
       "      <td>WHOSIS_000001</td>\n",
       "      <td>Life expectancy at birth (years)</td>\n",
       "      <td>PUBLISHED</td>\n",
       "      <td>Published</td>\n",
       "      <td>2013</td>\n",
       "      <td>2013</td>\n",
       "      <td>EMR</td>\n",
       "      <td>Eastern Mediterranean</td>\n",
       "      <td>NaN</td>\n",
       "      <td>NaN</td>\n",
       "      <td>AFG</td>\n",
       "      <td>Afghanistan</td>\n",
       "      <td>FMLE</td>\n",
       "      <td>Female</td>\n",
       "      <td>62</td>\n",
       "      <td>61.97733</td>\n",
       "    </tr>\n",
       "    <tr>\n",
       "      <th>2</th>\n",
       "      <td>WHOSIS_000001</td>\n",
       "      <td>Life expectancy at birth (years)</td>\n",
       "      <td>PUBLISHED</td>\n",
       "      <td>Published</td>\n",
       "      <td>2013</td>\n",
       "      <td>2013</td>\n",
       "      <td>EMR</td>\n",
       "      <td>Eastern Mediterranean</td>\n",
       "      <td>NaN</td>\n",
       "      <td>NaN</td>\n",
       "      <td>AFG</td>\n",
       "      <td>Afghanistan</td>\n",
       "      <td>MLE</td>\n",
       "      <td>Male</td>\n",
       "      <td>61</td>\n",
       "      <td>60.51228</td>\n",
       "    </tr>\n",
       "    <tr>\n",
       "      <th>3</th>\n",
       "      <td>WHOSIS_000001</td>\n",
       "      <td>Life expectancy at birth (years)</td>\n",
       "      <td>PUBLISHED</td>\n",
       "      <td>Published</td>\n",
       "      <td>2012</td>\n",
       "      <td>2012</td>\n",
       "      <td>EMR</td>\n",
       "      <td>Eastern Mediterranean</td>\n",
       "      <td>WB_LI</td>\n",
       "      <td>Low_income</td>\n",
       "      <td>AFG</td>\n",
       "      <td>Afghanistan</td>\n",
       "      <td>BTSX</td>\n",
       "      <td>Both sexes</td>\n",
       "      <td>60</td>\n",
       "      <td>60.00000</td>\n",
       "    </tr>\n",
       "    <tr>\n",
       "      <th>4</th>\n",
       "      <td>WHOSIS_000001</td>\n",
       "      <td>Life expectancy at birth (years)</td>\n",
       "      <td>PUBLISHED</td>\n",
       "      <td>Published</td>\n",
       "      <td>2012</td>\n",
       "      <td>2012</td>\n",
       "      <td>EMR</td>\n",
       "      <td>Eastern Mediterranean</td>\n",
       "      <td>WB_LI</td>\n",
       "      <td>Low_income</td>\n",
       "      <td>AFG</td>\n",
       "      <td>Afghanistan</td>\n",
       "      <td>FMLE</td>\n",
       "      <td>Female</td>\n",
       "      <td>61</td>\n",
       "      <td>61.00000</td>\n",
       "    </tr>\n",
       "  </tbody>\n",
       "</table>\n",
       "</div>"
      ],
      "text/plain": [
       "         GhoCode                        GhoDisplay PublishStateCode  \\\n",
       "0  WHOSIS_000001  Life expectancy at birth (years)        PUBLISHED   \n",
       "1  WHOSIS_000001  Life expectancy at birth (years)        PUBLISHED   \n",
       "2  WHOSIS_000001  Life expectancy at birth (years)        PUBLISHED   \n",
       "3  WHOSIS_000001  Life expectancy at birth (years)        PUBLISHED   \n",
       "4  WHOSIS_000001  Life expectancy at birth (years)        PUBLISHED   \n",
       "\n",
       "  PublishStateDisplay  YearCode  YearDisplay RegionCode  \\\n",
       "0           Published      2013         2013        EMR   \n",
       "1           Published      2013         2013        EMR   \n",
       "2           Published      2013         2013        EMR   \n",
       "3           Published      2012         2012        EMR   \n",
       "4           Published      2012         2012        EMR   \n",
       "\n",
       "           RegionDisplay WorldBankIncomeGroupGroupCode  \\\n",
       "0  Eastern Mediterranean                           NaN   \n",
       "1  Eastern Mediterranean                           NaN   \n",
       "2  Eastern Mediterranean                           NaN   \n",
       "3  Eastern Mediterranean                         WB_LI   \n",
       "4  Eastern Mediterranean                         WB_LI   \n",
       "\n",
       "  WorldBankIncomeGroupDisplay CountryCode CountryDisplay SexCode  SexDisplay  \\\n",
       "0                         NaN         AFG    Afghanistan    BTSX  Both sexes   \n",
       "1                         NaN         AFG    Afghanistan    FMLE      Female   \n",
       "2                         NaN         AFG    Afghanistan     MLE        Male   \n",
       "3                  Low_income         AFG    Afghanistan    BTSX  Both sexes   \n",
       "4                  Low_income         AFG    Afghanistan    FMLE      Female   \n",
       "\n",
       "   DisplayValue   Numeric  \n",
       "0            61  61.25205  \n",
       "1            62  61.97733  \n",
       "2            61  60.51228  \n",
       "3            60  60.00000  \n",
       "4            61  61.00000  "
      ]
     },
     "execution_count": 10,
     "metadata": {},
     "output_type": "execute_result"
    }
   ],
   "source": [
    "life_exp = pd.read_csv(\"LifeExpectancy.csv\")\n",
    "life_exp.head()"
   ]
  },
  {
   "cell_type": "code",
   "execution_count": 11,
   "metadata": {},
   "outputs": [
    {
     "name": "stdout",
     "output_type": "stream",
     "text": [
      "<class 'pandas.core.frame.DataFrame'>\n",
      "RangeIndex: 6408 entries, 0 to 6407\n",
      "Data columns (total 16 columns):\n",
      "GhoCode                          6408 non-null object\n",
      "GhoDisplay                       6408 non-null object\n",
      "PublishStateCode                 6408 non-null object\n",
      "PublishStateDisplay              6408 non-null object\n",
      "YearCode                         6408 non-null int64\n",
      "YearDisplay                      6408 non-null int64\n",
      "RegionCode                       6408 non-null object\n",
      "RegionDisplay                    6408 non-null object\n",
      "WorldBankIncomeGroupGroupCode    5244 non-null object\n",
      "WorldBankIncomeGroupDisplay      5244 non-null object\n",
      "CountryCode                      6408 non-null object\n",
      "CountryDisplay                   6408 non-null object\n",
      "SexCode                          6408 non-null object\n",
      "SexDisplay                       6408 non-null object\n",
      "DisplayValue                     6408 non-null int64\n",
      "Numeric                          6408 non-null float64\n",
      "dtypes: float64(1), int64(3), object(12)\n",
      "memory usage: 801.1+ KB\n"
     ]
    }
   ],
   "source": [
    "life_exp.info()"
   ]
  },
  {
   "cell_type": "code",
   "execution_count": 12,
   "metadata": {},
   "outputs": [
    {
     "data": {
      "text/html": [
       "<div>\n",
       "<style scoped>\n",
       "    .dataframe tbody tr th:only-of-type {\n",
       "        vertical-align: middle;\n",
       "    }\n",
       "\n",
       "    .dataframe tbody tr th {\n",
       "        vertical-align: top;\n",
       "    }\n",
       "\n",
       "    .dataframe thead th {\n",
       "        text-align: right;\n",
       "    }\n",
       "</style>\n",
       "<table border=\"1\" class=\"dataframe\">\n",
       "  <thead>\n",
       "    <tr style=\"text-align: right;\">\n",
       "      <th></th>\n",
       "      <th>CountryDisplay</th>\n",
       "      <th>Numeric</th>\n",
       "    </tr>\n",
       "  </thead>\n",
       "  <tbody>\n",
       "    <tr>\n",
       "      <th>0</th>\n",
       "      <td>Afghanistan</td>\n",
       "      <td>61.25205</td>\n",
       "    </tr>\n",
       "    <tr>\n",
       "      <th>1</th>\n",
       "      <td>Afghanistan</td>\n",
       "      <td>61.97733</td>\n",
       "    </tr>\n",
       "    <tr>\n",
       "      <th>2</th>\n",
       "      <td>Afghanistan</td>\n",
       "      <td>60.51228</td>\n",
       "    </tr>\n",
       "    <tr>\n",
       "      <th>3</th>\n",
       "      <td>Afghanistan</td>\n",
       "      <td>60.00000</td>\n",
       "    </tr>\n",
       "    <tr>\n",
       "      <th>4</th>\n",
       "      <td>Afghanistan</td>\n",
       "      <td>61.00000</td>\n",
       "    </tr>\n",
       "  </tbody>\n",
       "</table>\n",
       "</div>"
      ],
      "text/plain": [
       "  CountryDisplay   Numeric\n",
       "0    Afghanistan  61.25205\n",
       "1    Afghanistan  61.97733\n",
       "2    Afghanistan  60.51228\n",
       "3    Afghanistan  60.00000\n",
       "4    Afghanistan  61.00000"
      ]
     },
     "execution_count": 12,
     "metadata": {},
     "output_type": "execute_result"
    }
   ],
   "source": [
    "life_exp_num = life_exp[[\"CountryDisplay\", \"Numeric\"]]\n",
    "life_exp_num.head()"
   ]
  },
  {
   "cell_type": "code",
   "execution_count": 13,
   "metadata": {},
   "outputs": [
    {
     "name": "stdout",
     "output_type": "stream",
     "text": [
      "<class 'pandas.core.frame.DataFrame'>\n",
      "RangeIndex: 6408 entries, 0 to 6407\n",
      "Data columns (total 2 columns):\n",
      "CountryDisplay    6408 non-null object\n",
      "Numeric           6408 non-null float64\n",
      "dtypes: float64(1), object(1)\n",
      "memory usage: 100.2+ KB\n"
     ]
    }
   ],
   "source": [
    "life_exp_num.info()"
   ]
  },
  {
   "cell_type": "code",
   "execution_count": 14,
   "metadata": {},
   "outputs": [
    {
     "data": {
      "text/html": [
       "<div>\n",
       "<style scoped>\n",
       "    .dataframe tbody tr th:only-of-type {\n",
       "        vertical-align: middle;\n",
       "    }\n",
       "\n",
       "    .dataframe tbody tr th {\n",
       "        vertical-align: top;\n",
       "    }\n",
       "\n",
       "    .dataframe thead th {\n",
       "        text-align: right;\n",
       "    }\n",
       "</style>\n",
       "<table border=\"1\" class=\"dataframe\">\n",
       "  <thead>\n",
       "    <tr style=\"text-align: right;\">\n",
       "      <th></th>\n",
       "      <th>Numeric</th>\n",
       "    </tr>\n",
       "    <tr>\n",
       "      <th>CountryDisplay</th>\n",
       "      <th></th>\n",
       "    </tr>\n",
       "  </thead>\n",
       "  <tbody>\n",
       "    <tr>\n",
       "      <th>Afghanistan</th>\n",
       "      <td>39.058115</td>\n",
       "    </tr>\n",
       "    <tr>\n",
       "      <th>Albania</th>\n",
       "      <td>49.981889</td>\n",
       "    </tr>\n",
       "    <tr>\n",
       "      <th>Algeria</th>\n",
       "      <td>48.752299</td>\n",
       "    </tr>\n",
       "    <tr>\n",
       "      <th>Andorra</th>\n",
       "      <td>57.340645</td>\n",
       "    </tr>\n",
       "    <tr>\n",
       "      <th>Angola</th>\n",
       "      <td>34.406301</td>\n",
       "    </tr>\n",
       "  </tbody>\n",
       "</table>\n",
       "</div>"
      ],
      "text/plain": [
       "                  Numeric\n",
       "CountryDisplay           \n",
       "Afghanistan     39.058115\n",
       "Albania         49.981889\n",
       "Algeria         48.752299\n",
       "Andorra         57.340645\n",
       "Angola          34.406301"
      ]
     },
     "execution_count": 14,
     "metadata": {},
     "output_type": "execute_result"
    }
   ],
   "source": [
    "life_exp_num_bycountry = life_exp_num.groupby(\"CountryDisplay\").mean()\n",
    "life_exp_num_bycountry.head()"
   ]
  },
  {
   "cell_type": "code",
   "execution_count": 15,
   "metadata": {},
   "outputs": [
    {
     "data": {
      "text/html": [
       "<div>\n",
       "<style scoped>\n",
       "    .dataframe tbody tr th:only-of-type {\n",
       "        vertical-align: middle;\n",
       "    }\n",
       "\n",
       "    .dataframe tbody tr th {\n",
       "        vertical-align: top;\n",
       "    }\n",
       "\n",
       "    .dataframe thead th {\n",
       "        text-align: right;\n",
       "    }\n",
       "</style>\n",
       "<table border=\"1\" class=\"dataframe\">\n",
       "  <thead>\n",
       "    <tr style=\"text-align: right;\">\n",
       "      <th></th>\n",
       "      <th>CountryDisplay</th>\n",
       "      <th>Numeric</th>\n",
       "    </tr>\n",
       "  </thead>\n",
       "  <tbody>\n",
       "    <tr>\n",
       "      <th>0</th>\n",
       "      <td>Afghanistan</td>\n",
       "      <td>39.058115</td>\n",
       "    </tr>\n",
       "    <tr>\n",
       "      <th>1</th>\n",
       "      <td>Albania</td>\n",
       "      <td>49.981889</td>\n",
       "    </tr>\n",
       "    <tr>\n",
       "      <th>2</th>\n",
       "      <td>Algeria</td>\n",
       "      <td>48.752299</td>\n",
       "    </tr>\n",
       "    <tr>\n",
       "      <th>3</th>\n",
       "      <td>Andorra</td>\n",
       "      <td>57.340645</td>\n",
       "    </tr>\n",
       "    <tr>\n",
       "      <th>4</th>\n",
       "      <td>Angola</td>\n",
       "      <td>34.406301</td>\n",
       "    </tr>\n",
       "  </tbody>\n",
       "</table>\n",
       "</div>"
      ],
      "text/plain": [
       "  CountryDisplay    Numeric\n",
       "0    Afghanistan  39.058115\n",
       "1        Albania  49.981889\n",
       "2        Algeria  48.752299\n",
       "3        Andorra  57.340645\n",
       "4         Angola  34.406301"
      ]
     },
     "execution_count": 15,
     "metadata": {},
     "output_type": "execute_result"
    }
   ],
   "source": [
    "life_exp_num_bycountry.reset_index(level=0, inplace=True)\n",
    "life_exp_num_bycountry.head()"
   ]
  },
  {
   "cell_type": "code",
   "execution_count": 16,
   "metadata": {},
   "outputs": [
    {
     "data": {
      "text/html": [
       "<div>\n",
       "<style scoped>\n",
       "    .dataframe tbody tr th:only-of-type {\n",
       "        vertical-align: middle;\n",
       "    }\n",
       "\n",
       "    .dataframe tbody tr th {\n",
       "        vertical-align: top;\n",
       "    }\n",
       "\n",
       "    .dataframe thead th {\n",
       "        text-align: right;\n",
       "    }\n",
       "</style>\n",
       "<table border=\"1\" class=\"dataframe\">\n",
       "  <thead>\n",
       "    <tr style=\"text-align: right;\">\n",
       "      <th></th>\n",
       "      <th>country</th>\n",
       "      <th>years</th>\n",
       "    </tr>\n",
       "  </thead>\n",
       "  <tbody>\n",
       "    <tr>\n",
       "      <th>0</th>\n",
       "      <td>Afghanistan</td>\n",
       "      <td>39.058115</td>\n",
       "    </tr>\n",
       "    <tr>\n",
       "      <th>1</th>\n",
       "      <td>Albania</td>\n",
       "      <td>49.981889</td>\n",
       "    </tr>\n",
       "    <tr>\n",
       "      <th>2</th>\n",
       "      <td>Algeria</td>\n",
       "      <td>48.752299</td>\n",
       "    </tr>\n",
       "    <tr>\n",
       "      <th>3</th>\n",
       "      <td>Andorra</td>\n",
       "      <td>57.340645</td>\n",
       "    </tr>\n",
       "    <tr>\n",
       "      <th>4</th>\n",
       "      <td>Angola</td>\n",
       "      <td>34.406301</td>\n",
       "    </tr>\n",
       "  </tbody>\n",
       "</table>\n",
       "</div>"
      ],
      "text/plain": [
       "       country      years\n",
       "0  Afghanistan  39.058115\n",
       "1      Albania  49.981889\n",
       "2      Algeria  48.752299\n",
       "3      Andorra  57.340645\n",
       "4       Angola  34.406301"
      ]
     },
     "execution_count": 16,
     "metadata": {},
     "output_type": "execute_result"
    }
   ],
   "source": [
    "life_exp_num_bycountry.columns = [\"country\", \"years\"]\n",
    "life_exp_num_bycountry.head()"
   ]
  },
  {
   "cell_type": "code",
   "execution_count": 17,
   "metadata": {},
   "outputs": [
    {
     "data": {
      "text/plain": [
       "194"
      ]
     },
     "execution_count": 17,
     "metadata": {},
     "output_type": "execute_result"
    }
   ],
   "source": [
    "len(life_exp_num_bycountry)"
   ]
  },
  {
   "cell_type": "markdown",
   "metadata": {},
   "source": [
    "### 4.\tMerge drinks and lifetime data by country"
   ]
  },
  {
   "cell_type": "code",
   "execution_count": 18,
   "metadata": {},
   "outputs": [
    {
     "data": {
      "text/html": [
       "<div>\n",
       "<style scoped>\n",
       "    .dataframe tbody tr th:only-of-type {\n",
       "        vertical-align: middle;\n",
       "    }\n",
       "\n",
       "    .dataframe tbody tr th {\n",
       "        vertical-align: top;\n",
       "    }\n",
       "\n",
       "    .dataframe thead th {\n",
       "        text-align: right;\n",
       "    }\n",
       "</style>\n",
       "<table border=\"1\" class=\"dataframe\">\n",
       "  <thead>\n",
       "    <tr style=\"text-align: right;\">\n",
       "      <th></th>\n",
       "      <th>country</th>\n",
       "      <th>beer_servings</th>\n",
       "      <th>spirit_servings</th>\n",
       "      <th>wine_servings</th>\n",
       "      <th>total_litres_of_pure_alcohol</th>\n",
       "      <th>years</th>\n",
       "    </tr>\n",
       "  </thead>\n",
       "  <tbody>\n",
       "    <tr>\n",
       "      <th>0</th>\n",
       "      <td>Afghanistan</td>\n",
       "      <td>0.0</td>\n",
       "      <td>0.0</td>\n",
       "      <td>0.0</td>\n",
       "      <td>0.0000</td>\n",
       "      <td>39.058115</td>\n",
       "    </tr>\n",
       "    <tr>\n",
       "      <th>1</th>\n",
       "      <td>Albania</td>\n",
       "      <td>89.0</td>\n",
       "      <td>132.0</td>\n",
       "      <td>54.0</td>\n",
       "      <td>4.8675</td>\n",
       "      <td>49.981889</td>\n",
       "    </tr>\n",
       "    <tr>\n",
       "      <th>2</th>\n",
       "      <td>Algeria</td>\n",
       "      <td>25.0</td>\n",
       "      <td>0.0</td>\n",
       "      <td>14.0</td>\n",
       "      <td>0.6903</td>\n",
       "      <td>48.752299</td>\n",
       "    </tr>\n",
       "    <tr>\n",
       "      <th>3</th>\n",
       "      <td>Andorra</td>\n",
       "      <td>245.0</td>\n",
       "      <td>138.0</td>\n",
       "      <td>312.0</td>\n",
       "      <td>12.3015</td>\n",
       "      <td>57.340645</td>\n",
       "    </tr>\n",
       "    <tr>\n",
       "      <th>4</th>\n",
       "      <td>Angola</td>\n",
       "      <td>217.0</td>\n",
       "      <td>57.0</td>\n",
       "      <td>45.0</td>\n",
       "      <td>5.6463</td>\n",
       "      <td>34.406301</td>\n",
       "    </tr>\n",
       "  </tbody>\n",
       "</table>\n",
       "</div>"
      ],
      "text/plain": [
       "       country  beer_servings  spirit_servings  wine_servings  \\\n",
       "0  Afghanistan            0.0              0.0            0.0   \n",
       "1      Albania           89.0            132.0           54.0   \n",
       "2      Algeria           25.0              0.0           14.0   \n",
       "3      Andorra          245.0            138.0          312.0   \n",
       "4       Angola          217.0             57.0           45.0   \n",
       "\n",
       "   total_litres_of_pure_alcohol      years  \n",
       "0                        0.0000  39.058115  \n",
       "1                        4.8675  49.981889  \n",
       "2                        0.6903  48.752299  \n",
       "3                       12.3015  57.340645  \n",
       "4                        5.6463  34.406301  "
      ]
     },
     "execution_count": 18,
     "metadata": {},
     "output_type": "execute_result"
    }
   ],
   "source": [
    "drink_life = pd.merge (drinks, life_exp_num_bycountry, on = \"country\")\n",
    "drink_life.head()"
   ]
  },
  {
   "cell_type": "code",
   "execution_count": 19,
   "metadata": {},
   "outputs": [
    {
     "data": {
      "text/plain": [
       "167"
      ]
     },
     "execution_count": 19,
     "metadata": {},
     "output_type": "execute_result"
    }
   ],
   "source": [
    "len(drink_life)"
   ]
  },
  {
   "cell_type": "code",
   "execution_count": null,
   "metadata": {},
   "outputs": [],
   "source": []
  },
  {
   "cell_type": "markdown",
   "metadata": {},
   "source": [
    "### 5.\tCalculate correlation between expected lifetime and total liters of pure alcohol"
   ]
  },
  {
   "cell_type": "code",
   "execution_count": 20,
   "metadata": {},
   "outputs": [
    {
     "data": {
      "text/html": [
       "<div>\n",
       "<style scoped>\n",
       "    .dataframe tbody tr th:only-of-type {\n",
       "        vertical-align: middle;\n",
       "    }\n",
       "\n",
       "    .dataframe tbody tr th {\n",
       "        vertical-align: top;\n",
       "    }\n",
       "\n",
       "    .dataframe thead th {\n",
       "        text-align: right;\n",
       "    }\n",
       "</style>\n",
       "<table border=\"1\" class=\"dataframe\">\n",
       "  <thead>\n",
       "    <tr style=\"text-align: right;\">\n",
       "      <th></th>\n",
       "      <th>beer_servings</th>\n",
       "      <th>spirit_servings</th>\n",
       "      <th>wine_servings</th>\n",
       "      <th>total_litres_of_pure_alcohol</th>\n",
       "      <th>years</th>\n",
       "    </tr>\n",
       "  </thead>\n",
       "  <tbody>\n",
       "    <tr>\n",
       "      <th>count</th>\n",
       "      <td>167.000000</td>\n",
       "      <td>166.000000</td>\n",
       "      <td>166.000000</td>\n",
       "      <td>165.000000</td>\n",
       "      <td>167.000000</td>\n",
       "    </tr>\n",
       "    <tr>\n",
       "      <th>mean</th>\n",
       "      <td>106.856287</td>\n",
       "      <td>81.265060</td>\n",
       "      <td>51.704819</td>\n",
       "      <td>4.196295</td>\n",
       "      <td>48.235222</td>\n",
       "    </tr>\n",
       "    <tr>\n",
       "      <th>std</th>\n",
       "      <td>103.437676</td>\n",
       "      <td>88.360431</td>\n",
       "      <td>83.412249</td>\n",
       "      <td>3.781397</td>\n",
       "      <td>6.618949</td>\n",
       "    </tr>\n",
       "    <tr>\n",
       "      <th>min</th>\n",
       "      <td>0.000000</td>\n",
       "      <td>0.000000</td>\n",
       "      <td>0.000000</td>\n",
       "      <td>0.000000</td>\n",
       "      <td>29.734234</td>\n",
       "    </tr>\n",
       "    <tr>\n",
       "      <th>25%</th>\n",
       "      <td>19.000000</td>\n",
       "      <td>4.250000</td>\n",
       "      <td>1.000000</td>\n",
       "      <td>0.796500</td>\n",
       "      <td>43.022608</td>\n",
       "    </tr>\n",
       "    <tr>\n",
       "      <th>50%</th>\n",
       "      <td>71.000000</td>\n",
       "      <td>60.500000</td>\n",
       "      <td>8.000000</td>\n",
       "      <td>2.761200</td>\n",
       "      <td>50.258646</td>\n",
       "    </tr>\n",
       "    <tr>\n",
       "      <th>75%</th>\n",
       "      <td>192.500000</td>\n",
       "      <td>123.500000</td>\n",
       "      <td>61.250000</td>\n",
       "      <td>6.991500</td>\n",
       "      <td>53.050910</td>\n",
       "    </tr>\n",
       "    <tr>\n",
       "      <th>max</th>\n",
       "      <td>376.000000</td>\n",
       "      <td>438.000000</td>\n",
       "      <td>370.000000</td>\n",
       "      <td>12.301500</td>\n",
       "      <td>59.119296</td>\n",
       "    </tr>\n",
       "  </tbody>\n",
       "</table>\n",
       "</div>"
      ],
      "text/plain": [
       "       beer_servings  spirit_servings  wine_servings  \\\n",
       "count     167.000000       166.000000     166.000000   \n",
       "mean      106.856287        81.265060      51.704819   \n",
       "std       103.437676        88.360431      83.412249   \n",
       "min         0.000000         0.000000       0.000000   \n",
       "25%        19.000000         4.250000       1.000000   \n",
       "50%        71.000000        60.500000       8.000000   \n",
       "75%       192.500000       123.500000      61.250000   \n",
       "max       376.000000       438.000000     370.000000   \n",
       "\n",
       "       total_litres_of_pure_alcohol       years  \n",
       "count                    165.000000  167.000000  \n",
       "mean                       4.196295   48.235222  \n",
       "std                        3.781397    6.618949  \n",
       "min                        0.000000   29.734234  \n",
       "25%                        0.796500   43.022608  \n",
       "50%                        2.761200   50.258646  \n",
       "75%                        6.991500   53.050910  \n",
       "max                       12.301500   59.119296  "
      ]
     },
     "execution_count": 20,
     "metadata": {},
     "output_type": "execute_result"
    }
   ],
   "source": [
    "drink_life.describe()"
   ]
  },
  {
   "cell_type": "code",
   "execution_count": 21,
   "metadata": {},
   "outputs": [
    {
     "data": {
      "image/png": "[encoded data removed]",
      "text/plain": [
       "<matplotlib.figure.Figure at 0x10f6d1ef0>"
      ]
     },
     "metadata": {},
     "output_type": "display_data"
    }
   ],
   "source": [
    "sns.heatmap(drink_life.isnull(),yticklabels=False,cbar=False,cmap='viridis');\n"
   ]
  },
  {
   "cell_type": "code",
   "execution_count": 22,
   "metadata": {},
   "outputs": [
    {
     "data": {
      "image/png": "[encoded data removed]",
      "text/plain": [
       "<matplotlib.figure.Figure at 0x107729390>"
      ]
     },
     "metadata": {},
     "output_type": "display_data"
    }
   ],
   "source": [
    "drink_life.dropna(axis=0, inplace=True)\n",
    "sns.heatmap(drink_life.isnull(),yticklabels=False,cbar=False,cmap='viridis');\n"
   ]
  },
  {
   "cell_type": "code",
   "execution_count": 23,
   "metadata": {},
   "outputs": [
    {
     "data": {
      "text/plain": [
       "165"
      ]
     },
     "execution_count": 23,
     "metadata": {},
     "output_type": "execute_result"
    }
   ],
   "source": [
    "len(drink_life)"
   ]
  },
  {
   "cell_type": "code",
   "execution_count": 24,
   "metadata": {},
   "outputs": [
    {
     "data": {
      "image/png": "[encoded data removed]",
      "text/plain": [
       "<matplotlib.figure.Figure at 0x10d4aed30>"
      ]
     },
     "metadata": {},
     "output_type": "display_data"
    }
   ],
   "source": [
    "sns.distplot(drink_life[\"total_litres_of_pure_alcohol\"]);"
   ]
  },
  {
   "cell_type": "code",
   "execution_count": 25,
   "metadata": {},
   "outputs": [
    {
     "data": {
      "image/png": "[encoded data removed]",
      "text/plain": [
       "<matplotlib.figure.Figure at 0x10777ee48>"
      ]
     },
     "metadata": {},
     "output_type": "display_data"
    }
   ],
   "source": [
    "sns.distplot(drink_life[\"years\"]);"
   ]
  },
  {
   "cell_type": "code",
   "execution_count": 26,
   "metadata": {},
   "outputs": [
    {
     "data": {
      "image/png": "[encoded data removed]",
      "text/plain": [
       "<matplotlib.figure.Figure at 0x10fb45e80>"
      ]
     },
     "metadata": {},
     "output_type": "display_data"
    }
   ],
   "source": [
    "sns.pairplot(drink_life);"
   ]
  },
  {
   "cell_type": "code",
   "execution_count": 27,
   "metadata": {},
   "outputs": [
    {
     "data": {
      "image/png": "[encoded data removed]",
      "text/plain": [
       "<matplotlib.figure.Figure at 0x1a171fcc18>"
      ]
     },
     "metadata": {},
     "output_type": "display_data"
    }
   ],
   "source": [
    "sns.jointplot(x=\"years\", y= \"total_litres_of_pure_alcohol\", data = drink_life);"
   ]
  },
  {
   "cell_type": "code",
   "execution_count": 28,
   "metadata": {},
   "outputs": [
    {
     "data": {
      "image/png": "[encoded data removed]",
      "text/plain": [
       "<matplotlib.figure.Figure at 0x1a175bb7b8>"
      ]
     },
     "metadata": {},
     "output_type": "display_data"
    }
   ],
   "source": [
    "sns.heatmap(drink_life.corr());"
   ]
  },
  {
   "cell_type": "code",
   "execution_count": 29,
   "metadata": {},
   "outputs": [
    {
     "data": {
      "text/html": [
       "<div>\n",
       "<style scoped>\n",
       "    .dataframe tbody tr th:only-of-type {\n",
       "        vertical-align: middle;\n",
       "    }\n",
       "\n",
       "    .dataframe tbody tr th {\n",
       "        vertical-align: top;\n",
       "    }\n",
       "\n",
       "    .dataframe thead th {\n",
       "        text-align: right;\n",
       "    }\n",
       "</style>\n",
       "<table border=\"1\" class=\"dataframe\">\n",
       "  <thead>\n",
       "    <tr style=\"text-align: right;\">\n",
       "      <th></th>\n",
       "      <th>country</th>\n",
       "      <th>total_litres_of_pure_alcohol</th>\n",
       "      <th>years</th>\n",
       "    </tr>\n",
       "  </thead>\n",
       "  <tbody>\n",
       "    <tr>\n",
       "      <th>0</th>\n",
       "      <td>Afghanistan</td>\n",
       "      <td>0.0000</td>\n",
       "      <td>39.058115</td>\n",
       "    </tr>\n",
       "    <tr>\n",
       "      <th>1</th>\n",
       "      <td>Albania</td>\n",
       "      <td>4.8675</td>\n",
       "      <td>49.981889</td>\n",
       "    </tr>\n",
       "    <tr>\n",
       "      <th>2</th>\n",
       "      <td>Algeria</td>\n",
       "      <td>0.6903</td>\n",
       "      <td>48.752299</td>\n",
       "    </tr>\n",
       "    <tr>\n",
       "      <th>3</th>\n",
       "      <td>Andorra</td>\n",
       "      <td>12.3015</td>\n",
       "      <td>57.340645</td>\n",
       "    </tr>\n",
       "    <tr>\n",
       "      <th>4</th>\n",
       "      <td>Angola</td>\n",
       "      <td>5.6463</td>\n",
       "      <td>34.406301</td>\n",
       "    </tr>\n",
       "  </tbody>\n",
       "</table>\n",
       "</div>"
      ],
      "text/plain": [
       "       country  total_litres_of_pure_alcohol      years\n",
       "0  Afghanistan                        0.0000  39.058115\n",
       "1      Albania                        4.8675  49.981889\n",
       "2      Algeria                        0.6903  48.752299\n",
       "3      Andorra                       12.3015  57.340645\n",
       "4       Angola                        5.6463  34.406301"
      ]
     },
     "execution_count": 29,
     "metadata": {},
     "output_type": "execute_result"
    }
   ],
   "source": [
    "alc_year = drink_life[[\"country\", \"total_litres_of_pure_alcohol\", \"years\"]]\n",
    "alc_year.head()"
   ]
  },
  {
   "cell_type": "code",
   "execution_count": 30,
   "metadata": {},
   "outputs": [
    {
     "data": {
      "text/html": [
       "<div>\n",
       "<style scoped>\n",
       "    .dataframe tbody tr th:only-of-type {\n",
       "        vertical-align: middle;\n",
       "    }\n",
       "\n",
       "    .dataframe tbody tr th {\n",
       "        vertical-align: top;\n",
       "    }\n",
       "\n",
       "    .dataframe thead th {\n",
       "        text-align: right;\n",
       "    }\n",
       "</style>\n",
       "<table border=\"1\" class=\"dataframe\">\n",
       "  <thead>\n",
       "    <tr style=\"text-align: right;\">\n",
       "      <th></th>\n",
       "      <th>total_litres_of_pure_alcohol</th>\n",
       "      <th>years</th>\n",
       "    </tr>\n",
       "  </thead>\n",
       "  <tbody>\n",
       "    <tr>\n",
       "      <th>total_litres_of_pure_alcohol</th>\n",
       "      <td>1.000000</td>\n",
       "      <td>0.551851</td>\n",
       "    </tr>\n",
       "    <tr>\n",
       "      <th>years</th>\n",
       "      <td>0.551851</td>\n",
       "      <td>1.000000</td>\n",
       "    </tr>\n",
       "  </tbody>\n",
       "</table>\n",
       "</div>"
      ],
      "text/plain": [
       "                              total_litres_of_pure_alcohol     years\n",
       "total_litres_of_pure_alcohol                      1.000000  0.551851\n",
       "years                                             0.551851  1.000000"
      ]
     },
     "execution_count": 30,
     "metadata": {},
     "output_type": "execute_result"
    }
   ],
   "source": [
    "alc_year.corr()"
   ]
  },
  {
   "cell_type": "code",
   "execution_count": 31,
   "metadata": {},
   "outputs": [
    {
     "data": {
      "image/png": "[encoded data removed]",
      "text/plain": [
       "<matplotlib.figure.Figure at 0x1a177fdbe0>"
      ]
     },
     "metadata": {},
     "output_type": "display_data"
    }
   ],
   "source": [
    "sns.heatmap(alc_year.corr());"
   ]
  },
  {
   "cell_type": "code",
   "execution_count": null,
   "metadata": {},
   "outputs": [],
   "source": []
  },
  {
   "cell_type": "code",
   "execution_count": null,
   "metadata": {},
   "outputs": [],
   "source": []
  },
  {
   "cell_type": "markdown",
   "metadata": {},
   "source": [
    "### 6.\tRead and prepare CountriesOfTheWorld.xlsx"
   ]
  },
  {
   "cell_type": "code",
   "execution_count": 32,
   "metadata": {},
   "outputs": [
    {
     "data": {
      "text/html": [
       "<div>\n",
       "<style scoped>\n",
       "    .dataframe tbody tr th:only-of-type {\n",
       "        vertical-align: middle;\n",
       "    }\n",
       "\n",
       "    .dataframe tbody tr th {\n",
       "        vertical-align: top;\n",
       "    }\n",
       "\n",
       "    .dataframe thead th {\n",
       "        text-align: right;\n",
       "    }\n",
       "</style>\n",
       "<table border=\"1\" class=\"dataframe\">\n",
       "  <thead>\n",
       "    <tr style=\"text-align: right;\">\n",
       "      <th></th>\n",
       "      <th>Country</th>\n",
       "      <th>Region</th>\n",
       "      <th>Population</th>\n",
       "      <th>Area</th>\n",
       "      <th>Pop. Density</th>\n",
       "      <th>Coastline</th>\n",
       "      <th>Net migration</th>\n",
       "      <th>Infant mortality</th>\n",
       "      <th>GDP</th>\n",
       "      <th>Literacy</th>\n",
       "      <th>Phones</th>\n",
       "      <th>Arable</th>\n",
       "      <th>Crops</th>\n",
       "      <th>Other</th>\n",
       "      <th>Birthrate</th>\n",
       "      <th>Deathrate</th>\n",
       "    </tr>\n",
       "  </thead>\n",
       "  <tbody>\n",
       "    <tr>\n",
       "      <th>0</th>\n",
       "      <td>Afghanistan</td>\n",
       "      <td>ASIA (EX. NEAR EAST)</td>\n",
       "      <td>31056997</td>\n",
       "      <td>647500</td>\n",
       "      <td>47.96</td>\n",
       "      <td>0.00</td>\n",
       "      <td>23.06</td>\n",
       "      <td>163.07</td>\n",
       "      <td>700.0</td>\n",
       "      <td>36.0</td>\n",
       "      <td>3.22</td>\n",
       "      <td>12.13</td>\n",
       "      <td>0.22</td>\n",
       "      <td>87.65</td>\n",
       "      <td>46.60</td>\n",
       "      <td>20.34</td>\n",
       "    </tr>\n",
       "    <tr>\n",
       "      <th>1</th>\n",
       "      <td>Albania</td>\n",
       "      <td>EASTERN EUROPE</td>\n",
       "      <td>3581655</td>\n",
       "      <td>28748</td>\n",
       "      <td>124.59</td>\n",
       "      <td>1.26</td>\n",
       "      <td>-4.93</td>\n",
       "      <td>21.52</td>\n",
       "      <td>4500.0</td>\n",
       "      <td>86.5</td>\n",
       "      <td>71.20</td>\n",
       "      <td>21.09</td>\n",
       "      <td>4.42</td>\n",
       "      <td>74.49</td>\n",
       "      <td>15.11</td>\n",
       "      <td>5.22</td>\n",
       "    </tr>\n",
       "    <tr>\n",
       "      <th>2</th>\n",
       "      <td>Algeria</td>\n",
       "      <td>NORTHERN AFRICA</td>\n",
       "      <td>32930091</td>\n",
       "      <td>2381740</td>\n",
       "      <td>13.83</td>\n",
       "      <td>0.04</td>\n",
       "      <td>-0.39</td>\n",
       "      <td>31.00</td>\n",
       "      <td>6000.0</td>\n",
       "      <td>70.0</td>\n",
       "      <td>78.10</td>\n",
       "      <td>3.22</td>\n",
       "      <td>0.25</td>\n",
       "      <td>96.53</td>\n",
       "      <td>17.14</td>\n",
       "      <td>4.61</td>\n",
       "    </tr>\n",
       "    <tr>\n",
       "      <th>3</th>\n",
       "      <td>American Samoa</td>\n",
       "      <td>OCEANIA</td>\n",
       "      <td>57794</td>\n",
       "      <td>199</td>\n",
       "      <td>290.42</td>\n",
       "      <td>58.29</td>\n",
       "      <td>-20.71</td>\n",
       "      <td>9.27</td>\n",
       "      <td>8000.0</td>\n",
       "      <td>97.0</td>\n",
       "      <td>259.54</td>\n",
       "      <td>10.00</td>\n",
       "      <td>15.00</td>\n",
       "      <td>75.00</td>\n",
       "      <td>22.46</td>\n",
       "      <td>3.27</td>\n",
       "    </tr>\n",
       "    <tr>\n",
       "      <th>4</th>\n",
       "      <td>Andorra</td>\n",
       "      <td>WESTERN EUROPE</td>\n",
       "      <td>71201</td>\n",
       "      <td>468</td>\n",
       "      <td>152.14</td>\n",
       "      <td>0.00</td>\n",
       "      <td>6.60</td>\n",
       "      <td>4.05</td>\n",
       "      <td>19000.0</td>\n",
       "      <td>100.0</td>\n",
       "      <td>497.18</td>\n",
       "      <td>2.22</td>\n",
       "      <td>0.00</td>\n",
       "      <td>97.78</td>\n",
       "      <td>8.71</td>\n",
       "      <td>6.25</td>\n",
       "    </tr>\n",
       "  </tbody>\n",
       "</table>\n",
       "</div>"
      ],
      "text/plain": [
       "           Country                               Region  Population     Area  \\\n",
       "0     Afghanistan         ASIA (EX. NEAR EAST)             31056997   647500   \n",
       "1         Albania   EASTERN EUROPE                          3581655    28748   \n",
       "2         Algeria   NORTHERN AFRICA                        32930091  2381740   \n",
       "3  American Samoa   OCEANIA                                   57794      199   \n",
       "4         Andorra   WESTERN EUROPE                            71201      468   \n",
       "\n",
       "   Pop. Density  Coastline  Net migration  Infant mortality      GDP  \\\n",
       "0         47.96       0.00          23.06            163.07    700.0   \n",
       "1        124.59       1.26          -4.93             21.52   4500.0   \n",
       "2         13.83       0.04          -0.39             31.00   6000.0   \n",
       "3        290.42      58.29         -20.71              9.27   8000.0   \n",
       "4        152.14       0.00           6.60              4.05  19000.0   \n",
       "\n",
       "   Literacy  Phones  Arable  Crops  Other  Birthrate  Deathrate  \n",
       "0      36.0    3.22   12.13   0.22  87.65      46.60      20.34  \n",
       "1      86.5   71.20   21.09   4.42  74.49      15.11       5.22  \n",
       "2      70.0   78.10    3.22   0.25  96.53      17.14       4.61  \n",
       "3      97.0  259.54   10.00  15.00  75.00      22.46       3.27  \n",
       "4     100.0  497.18    2.22   0.00  97.78       8.71       6.25  "
      ]
     },
     "execution_count": 32,
     "metadata": {},
     "output_type": "execute_result"
    }
   ],
   "source": [
    "countries = pd.read_excel(\"CountriesOfTheWorld.xls\")\n",
    "countries.head()"
   ]
  },
  {
   "cell_type": "code",
   "execution_count": 33,
   "metadata": {},
   "outputs": [
    {
     "name": "stdout",
     "output_type": "stream",
     "text": [
      "<class 'pandas.core.frame.DataFrame'>\n",
      "RangeIndex: 227 entries, 0 to 226\n",
      "Data columns (total 16 columns):\n",
      "Country             227 non-null object\n",
      "Region              227 non-null object\n",
      "Population          227 non-null int64\n",
      "Area                227 non-null int64\n",
      "Pop. Density        227 non-null float64\n",
      "Coastline           227 non-null float64\n",
      "Net migration       224 non-null float64\n",
      "Infant mortality    224 non-null float64\n",
      "GDP                 226 non-null float64\n",
      "Literacy            209 non-null float64\n",
      "Phones              223 non-null float64\n",
      "Arable              225 non-null float64\n",
      "Crops               225 non-null float64\n",
      "Other               225 non-null float64\n",
      "Birthrate           224 non-null float64\n",
      "Deathrate           223 non-null float64\n",
      "dtypes: float64(12), int64(2), object(2)\n",
      "memory usage: 28.5+ KB\n"
     ]
    }
   ],
   "source": [
    "countries.info()"
   ]
  },
  {
   "cell_type": "code",
   "execution_count": 34,
   "metadata": {},
   "outputs": [
    {
     "data": {
      "text/html": [
       "<div>\n",
       "<style scoped>\n",
       "    .dataframe tbody tr th:only-of-type {\n",
       "        vertical-align: middle;\n",
       "    }\n",
       "\n",
       "    .dataframe tbody tr th {\n",
       "        vertical-align: top;\n",
       "    }\n",
       "\n",
       "    .dataframe thead th {\n",
       "        text-align: right;\n",
       "    }\n",
       "</style>\n",
       "<table border=\"1\" class=\"dataframe\">\n",
       "  <thead>\n",
       "    <tr style=\"text-align: right;\">\n",
       "      <th></th>\n",
       "      <th>Population</th>\n",
       "      <th>Area</th>\n",
       "      <th>Pop. Density</th>\n",
       "      <th>Coastline</th>\n",
       "      <th>Net migration</th>\n",
       "      <th>Infant mortality</th>\n",
       "      <th>GDP</th>\n",
       "      <th>Literacy</th>\n",
       "      <th>Phones</th>\n",
       "      <th>Arable</th>\n",
       "      <th>Crops</th>\n",
       "      <th>Other</th>\n",
       "      <th>Birthrate</th>\n",
       "      <th>Deathrate</th>\n",
       "    </tr>\n",
       "  </thead>\n",
       "  <tbody>\n",
       "    <tr>\n",
       "      <th>count</th>\n",
       "      <td>2.270000e+02</td>\n",
       "      <td>2.270000e+02</td>\n",
       "      <td>227.000000</td>\n",
       "      <td>227.000000</td>\n",
       "      <td>224.000000</td>\n",
       "      <td>224.000000</td>\n",
       "      <td>226.000000</td>\n",
       "      <td>209.000000</td>\n",
       "      <td>223.000000</td>\n",
       "      <td>225.000000</td>\n",
       "      <td>225.000000</td>\n",
       "      <td>225.000000</td>\n",
       "      <td>224.000000</td>\n",
       "      <td>223.000000</td>\n",
       "    </tr>\n",
       "    <tr>\n",
       "      <th>mean</th>\n",
       "      <td>2.874028e+07</td>\n",
       "      <td>5.982270e+05</td>\n",
       "      <td>379.042511</td>\n",
       "      <td>21.165330</td>\n",
       "      <td>0.038125</td>\n",
       "      <td>35.506964</td>\n",
       "      <td>9689.823009</td>\n",
       "      <td>82.838278</td>\n",
       "      <td>236.057668</td>\n",
       "      <td>13.797111</td>\n",
       "      <td>4.564222</td>\n",
       "      <td>81.638311</td>\n",
       "      <td>22.114732</td>\n",
       "      <td>9.241345</td>\n",
       "    </tr>\n",
       "    <tr>\n",
       "      <th>std</th>\n",
       "      <td>1.178913e+08</td>\n",
       "      <td>1.790282e+06</td>\n",
       "      <td>1660.187541</td>\n",
       "      <td>72.286863</td>\n",
       "      <td>4.889269</td>\n",
       "      <td>35.389899</td>\n",
       "      <td>10049.138513</td>\n",
       "      <td>19.722173</td>\n",
       "      <td>227.992091</td>\n",
       "      <td>13.040402</td>\n",
       "      <td>8.361470</td>\n",
       "      <td>16.140835</td>\n",
       "      <td>11.176716</td>\n",
       "      <td>4.990026</td>\n",
       "    </tr>\n",
       "    <tr>\n",
       "      <th>min</th>\n",
       "      <td>7.026000e+03</td>\n",
       "      <td>2.000000e+00</td>\n",
       "      <td>0.030000</td>\n",
       "      <td>0.000000</td>\n",
       "      <td>-20.990000</td>\n",
       "      <td>2.290000</td>\n",
       "      <td>500.000000</td>\n",
       "      <td>17.600000</td>\n",
       "      <td>0.170000</td>\n",
       "      <td>0.000000</td>\n",
       "      <td>0.000000</td>\n",
       "      <td>33.330000</td>\n",
       "      <td>7.290000</td>\n",
       "      <td>2.290000</td>\n",
       "    </tr>\n",
       "    <tr>\n",
       "      <th>25%</th>\n",
       "      <td>4.376240e+05</td>\n",
       "      <td>4.647500e+03</td>\n",
       "      <td>29.155000</td>\n",
       "      <td>0.100000</td>\n",
       "      <td>-0.927500</td>\n",
       "      <td>8.150000</td>\n",
       "      <td>1900.000000</td>\n",
       "      <td>70.600000</td>\n",
       "      <td>37.810000</td>\n",
       "      <td>3.220000</td>\n",
       "      <td>0.190000</td>\n",
       "      <td>71.650000</td>\n",
       "      <td>12.672500</td>\n",
       "      <td>5.910000</td>\n",
       "    </tr>\n",
       "    <tr>\n",
       "      <th>50%</th>\n",
       "      <td>4.786994e+06</td>\n",
       "      <td>8.660000e+04</td>\n",
       "      <td>78.770000</td>\n",
       "      <td>0.730000</td>\n",
       "      <td>0.000000</td>\n",
       "      <td>21.000000</td>\n",
       "      <td>5550.000000</td>\n",
       "      <td>92.500000</td>\n",
       "      <td>176.150000</td>\n",
       "      <td>10.420000</td>\n",
       "      <td>1.030000</td>\n",
       "      <td>85.700000</td>\n",
       "      <td>18.790000</td>\n",
       "      <td>7.840000</td>\n",
       "    </tr>\n",
       "    <tr>\n",
       "      <th>75%</th>\n",
       "      <td>1.749777e+07</td>\n",
       "      <td>4.418110e+05</td>\n",
       "      <td>190.110000</td>\n",
       "      <td>10.345000</td>\n",
       "      <td>0.997500</td>\n",
       "      <td>55.705000</td>\n",
       "      <td>15700.000000</td>\n",
       "      <td>98.000000</td>\n",
       "      <td>389.630000</td>\n",
       "      <td>20.000000</td>\n",
       "      <td>4.440000</td>\n",
       "      <td>95.440000</td>\n",
       "      <td>29.820000</td>\n",
       "      <td>10.605000</td>\n",
       "    </tr>\n",
       "    <tr>\n",
       "      <th>max</th>\n",
       "      <td>1.313974e+09</td>\n",
       "      <td>1.707520e+07</td>\n",
       "      <td>16271.500000</td>\n",
       "      <td>870.660000</td>\n",
       "      <td>23.060000</td>\n",
       "      <td>191.190000</td>\n",
       "      <td>55100.000000</td>\n",
       "      <td>100.000000</td>\n",
       "      <td>1035.550000</td>\n",
       "      <td>62.110000</td>\n",
       "      <td>50.680000</td>\n",
       "      <td>100.000000</td>\n",
       "      <td>50.730000</td>\n",
       "      <td>29.740000</td>\n",
       "    </tr>\n",
       "  </tbody>\n",
       "</table>\n",
       "</div>"
      ],
      "text/plain": [
       "         Population          Area  Pop. Density   Coastline  Net migration  \\\n",
       "count  2.270000e+02  2.270000e+02    227.000000  227.000000     224.000000   \n",
       "mean   2.874028e+07  5.982270e+05    379.042511   21.165330       0.038125   \n",
       "std    1.178913e+08  1.790282e+06   1660.187541   72.286863       4.889269   \n",
       "min    7.026000e+03  2.000000e+00      0.030000    0.000000     -20.990000   \n",
       "25%    4.376240e+05  4.647500e+03     29.155000    0.100000      -0.927500   \n",
       "50%    4.786994e+06  8.660000e+04     78.770000    0.730000       0.000000   \n",
       "75%    1.749777e+07  4.418110e+05    190.110000   10.345000       0.997500   \n",
       "max    1.313974e+09  1.707520e+07  16271.500000  870.660000      23.060000   \n",
       "\n",
       "       Infant mortality           GDP    Literacy       Phones      Arable  \\\n",
       "count        224.000000    226.000000  209.000000   223.000000  225.000000   \n",
       "mean          35.506964   9689.823009   82.838278   236.057668   13.797111   \n",
       "std           35.389899  10049.138513   19.722173   227.992091   13.040402   \n",
       "min            2.290000    500.000000   17.600000     0.170000    0.000000   \n",
       "25%            8.150000   1900.000000   70.600000    37.810000    3.220000   \n",
       "50%           21.000000   5550.000000   92.500000   176.150000   10.420000   \n",
       "75%           55.705000  15700.000000   98.000000   389.630000   20.000000   \n",
       "max          191.190000  55100.000000  100.000000  1035.550000   62.110000   \n",
       "\n",
       "            Crops       Other   Birthrate   Deathrate  \n",
       "count  225.000000  225.000000  224.000000  223.000000  \n",
       "mean     4.564222   81.638311   22.114732    9.241345  \n",
       "std      8.361470   16.140835   11.176716    4.990026  \n",
       "min      0.000000   33.330000    7.290000    2.290000  \n",
       "25%      0.190000   71.650000   12.672500    5.910000  \n",
       "50%      1.030000   85.700000   18.790000    7.840000  \n",
       "75%      4.440000   95.440000   29.820000   10.605000  \n",
       "max     50.680000  100.000000   50.730000   29.740000  "
      ]
     },
     "execution_count": 34,
     "metadata": {},
     "output_type": "execute_result"
    }
   ],
   "source": [
    "countries.describe()"
   ]
  },
  {
   "cell_type": "code",
   "execution_count": 35,
   "metadata": {},
   "outputs": [
    {
     "data": {
      "text/html": [
       "<div>\n",
       "<style scoped>\n",
       "    .dataframe tbody tr th:only-of-type {\n",
       "        vertical-align: middle;\n",
       "    }\n",
       "\n",
       "    .dataframe tbody tr th {\n",
       "        vertical-align: top;\n",
       "    }\n",
       "\n",
       "    .dataframe thead th {\n",
       "        text-align: right;\n",
       "    }\n",
       "</style>\n",
       "<table border=\"1\" class=\"dataframe\">\n",
       "  <thead>\n",
       "    <tr style=\"text-align: right;\">\n",
       "      <th></th>\n",
       "      <th>country</th>\n",
       "      <th>Population</th>\n",
       "      <th>Area</th>\n",
       "      <th>Pop. Density</th>\n",
       "      <th>Coastline</th>\n",
       "      <th>Net migration</th>\n",
       "      <th>Infant mortality</th>\n",
       "      <th>GDP</th>\n",
       "      <th>Literacy</th>\n",
       "      <th>Phones</th>\n",
       "      <th>Arable</th>\n",
       "      <th>Crops</th>\n",
       "      <th>Other</th>\n",
       "      <th>Birthrate</th>\n",
       "      <th>Deathrate</th>\n",
       "    </tr>\n",
       "  </thead>\n",
       "  <tbody>\n",
       "    <tr>\n",
       "      <th>0</th>\n",
       "      <td>Afghanistan</td>\n",
       "      <td>31056997</td>\n",
       "      <td>647500</td>\n",
       "      <td>47.96</td>\n",
       "      <td>0.00</td>\n",
       "      <td>23.06</td>\n",
       "      <td>163.07</td>\n",
       "      <td>700.0</td>\n",
       "      <td>36.0</td>\n",
       "      <td>3.22</td>\n",
       "      <td>12.13</td>\n",
       "      <td>0.22</td>\n",
       "      <td>87.65</td>\n",
       "      <td>46.60</td>\n",
       "      <td>20.34</td>\n",
       "    </tr>\n",
       "    <tr>\n",
       "      <th>1</th>\n",
       "      <td>Albania</td>\n",
       "      <td>3581655</td>\n",
       "      <td>28748</td>\n",
       "      <td>124.59</td>\n",
       "      <td>1.26</td>\n",
       "      <td>-4.93</td>\n",
       "      <td>21.52</td>\n",
       "      <td>4500.0</td>\n",
       "      <td>86.5</td>\n",
       "      <td>71.20</td>\n",
       "      <td>21.09</td>\n",
       "      <td>4.42</td>\n",
       "      <td>74.49</td>\n",
       "      <td>15.11</td>\n",
       "      <td>5.22</td>\n",
       "    </tr>\n",
       "    <tr>\n",
       "      <th>2</th>\n",
       "      <td>Algeria</td>\n",
       "      <td>32930091</td>\n",
       "      <td>2381740</td>\n",
       "      <td>13.83</td>\n",
       "      <td>0.04</td>\n",
       "      <td>-0.39</td>\n",
       "      <td>31.00</td>\n",
       "      <td>6000.0</td>\n",
       "      <td>70.0</td>\n",
       "      <td>78.10</td>\n",
       "      <td>3.22</td>\n",
       "      <td>0.25</td>\n",
       "      <td>96.53</td>\n",
       "      <td>17.14</td>\n",
       "      <td>4.61</td>\n",
       "    </tr>\n",
       "    <tr>\n",
       "      <th>3</th>\n",
       "      <td>American Samoa</td>\n",
       "      <td>57794</td>\n",
       "      <td>199</td>\n",
       "      <td>290.42</td>\n",
       "      <td>58.29</td>\n",
       "      <td>-20.71</td>\n",
       "      <td>9.27</td>\n",
       "      <td>8000.0</td>\n",
       "      <td>97.0</td>\n",
       "      <td>259.54</td>\n",
       "      <td>10.00</td>\n",
       "      <td>15.00</td>\n",
       "      <td>75.00</td>\n",
       "      <td>22.46</td>\n",
       "      <td>3.27</td>\n",
       "    </tr>\n",
       "    <tr>\n",
       "      <th>4</th>\n",
       "      <td>Andorra</td>\n",
       "      <td>71201</td>\n",
       "      <td>468</td>\n",
       "      <td>152.14</td>\n",
       "      <td>0.00</td>\n",
       "      <td>6.60</td>\n",
       "      <td>4.05</td>\n",
       "      <td>19000.0</td>\n",
       "      <td>100.0</td>\n",
       "      <td>497.18</td>\n",
       "      <td>2.22</td>\n",
       "      <td>0.00</td>\n",
       "      <td>97.78</td>\n",
       "      <td>8.71</td>\n",
       "      <td>6.25</td>\n",
       "    </tr>\n",
       "  </tbody>\n",
       "</table>\n",
       "</div>"
      ],
      "text/plain": [
       "           country  Population     Area  Pop. Density  Coastline  \\\n",
       "0     Afghanistan     31056997   647500         47.96       0.00   \n",
       "1         Albania      3581655    28748        124.59       1.26   \n",
       "2         Algeria     32930091  2381740         13.83       0.04   \n",
       "3  American Samoa        57794      199        290.42      58.29   \n",
       "4         Andorra        71201      468        152.14       0.00   \n",
       "\n",
       "   Net migration  Infant mortality      GDP  Literacy  Phones  Arable  Crops  \\\n",
       "0          23.06            163.07    700.0      36.0    3.22   12.13   0.22   \n",
       "1          -4.93             21.52   4500.0      86.5   71.20   21.09   4.42   \n",
       "2          -0.39             31.00   6000.0      70.0   78.10    3.22   0.25   \n",
       "3         -20.71              9.27   8000.0      97.0  259.54   10.00  15.00   \n",
       "4           6.60              4.05  19000.0     100.0  497.18    2.22   0.00   \n",
       "\n",
       "   Other  Birthrate  Deathrate  \n",
       "0  87.65      46.60      20.34  \n",
       "1  74.49      15.11       5.22  \n",
       "2  96.53      17.14       4.61  \n",
       "3  75.00      22.46       3.27  \n",
       "4  97.78       8.71       6.25  "
      ]
     },
     "execution_count": 35,
     "metadata": {},
     "output_type": "execute_result"
    }
   ],
   "source": [
    "countries.drop(\"Region\", axis=1, inplace=True)\n",
    "countries.rename(columns={\"Country\" : \"country\"}, inplace=True)\n",
    "\n",
    "countries.head()"
   ]
  },
  {
   "cell_type": "code",
   "execution_count": null,
   "metadata": {},
   "outputs": [],
   "source": []
  },
  {
   "cell_type": "markdown",
   "metadata": {},
   "source": [
    "### 7.\tMerge countries of the world data and the data prepared earlier (containing total liters of pure alcohol and expected lifetime)"
   ]
  },
  {
   "cell_type": "code",
   "execution_count": 36,
   "metadata": {},
   "outputs": [
    {
     "data": {
      "text/html": [
       "<div>\n",
       "<style scoped>\n",
       "    .dataframe tbody tr th:only-of-type {\n",
       "        vertical-align: middle;\n",
       "    }\n",
       "\n",
       "    .dataframe tbody tr th {\n",
       "        vertical-align: top;\n",
       "    }\n",
       "\n",
       "    .dataframe thead th {\n",
       "        text-align: right;\n",
       "    }\n",
       "</style>\n",
       "<table border=\"1\" class=\"dataframe\">\n",
       "  <thead>\n",
       "    <tr style=\"text-align: right;\">\n",
       "      <th></th>\n",
       "      <th>country</th>\n",
       "      <th>Population</th>\n",
       "      <th>Area</th>\n",
       "      <th>Pop. Density</th>\n",
       "      <th>Coastline</th>\n",
       "      <th>Net migration</th>\n",
       "      <th>Infant mortality</th>\n",
       "      <th>GDP</th>\n",
       "      <th>Literacy</th>\n",
       "      <th>Phones</th>\n",
       "      <th>Arable</th>\n",
       "      <th>Crops</th>\n",
       "      <th>Other</th>\n",
       "      <th>Birthrate</th>\n",
       "      <th>Deathrate</th>\n",
       "      <th>total_litres_of_pure_alcohol</th>\n",
       "      <th>years</th>\n",
       "    </tr>\n",
       "  </thead>\n",
       "  <tbody>\n",
       "    <tr>\n",
       "      <th>0</th>\n",
       "      <td>Afghanistan</td>\n",
       "      <td>31056997</td>\n",
       "      <td>647500</td>\n",
       "      <td>47.96</td>\n",
       "      <td>0.00</td>\n",
       "      <td>23.06</td>\n",
       "      <td>163.07</td>\n",
       "      <td>700.0</td>\n",
       "      <td>36.0</td>\n",
       "      <td>3.22</td>\n",
       "      <td>12.13</td>\n",
       "      <td>0.22</td>\n",
       "      <td>87.65</td>\n",
       "      <td>46.60</td>\n",
       "      <td>20.34</td>\n",
       "      <td>0.0000</td>\n",
       "      <td>39.058115</td>\n",
       "    </tr>\n",
       "    <tr>\n",
       "      <th>1</th>\n",
       "      <td>Albania</td>\n",
       "      <td>3581655</td>\n",
       "      <td>28748</td>\n",
       "      <td>124.59</td>\n",
       "      <td>1.26</td>\n",
       "      <td>-4.93</td>\n",
       "      <td>21.52</td>\n",
       "      <td>4500.0</td>\n",
       "      <td>86.5</td>\n",
       "      <td>71.20</td>\n",
       "      <td>21.09</td>\n",
       "      <td>4.42</td>\n",
       "      <td>74.49</td>\n",
       "      <td>15.11</td>\n",
       "      <td>5.22</td>\n",
       "      <td>4.8675</td>\n",
       "      <td>49.981889</td>\n",
       "    </tr>\n",
       "    <tr>\n",
       "      <th>2</th>\n",
       "      <td>Algeria</td>\n",
       "      <td>32930091</td>\n",
       "      <td>2381740</td>\n",
       "      <td>13.83</td>\n",
       "      <td>0.04</td>\n",
       "      <td>-0.39</td>\n",
       "      <td>31.00</td>\n",
       "      <td>6000.0</td>\n",
       "      <td>70.0</td>\n",
       "      <td>78.10</td>\n",
       "      <td>3.22</td>\n",
       "      <td>0.25</td>\n",
       "      <td>96.53</td>\n",
       "      <td>17.14</td>\n",
       "      <td>4.61</td>\n",
       "      <td>0.6903</td>\n",
       "      <td>48.752299</td>\n",
       "    </tr>\n",
       "    <tr>\n",
       "      <th>3</th>\n",
       "      <td>Andorra</td>\n",
       "      <td>71201</td>\n",
       "      <td>468</td>\n",
       "      <td>152.14</td>\n",
       "      <td>0.00</td>\n",
       "      <td>6.60</td>\n",
       "      <td>4.05</td>\n",
       "      <td>19000.0</td>\n",
       "      <td>100.0</td>\n",
       "      <td>497.18</td>\n",
       "      <td>2.22</td>\n",
       "      <td>0.00</td>\n",
       "      <td>97.78</td>\n",
       "      <td>8.71</td>\n",
       "      <td>6.25</td>\n",
       "      <td>12.3015</td>\n",
       "      <td>57.340645</td>\n",
       "    </tr>\n",
       "    <tr>\n",
       "      <th>4</th>\n",
       "      <td>Angola</td>\n",
       "      <td>12127071</td>\n",
       "      <td>1246700</td>\n",
       "      <td>9.73</td>\n",
       "      <td>0.13</td>\n",
       "      <td>0.00</td>\n",
       "      <td>191.19</td>\n",
       "      <td>1900.0</td>\n",
       "      <td>42.0</td>\n",
       "      <td>7.78</td>\n",
       "      <td>2.41</td>\n",
       "      <td>0.24</td>\n",
       "      <td>97.35</td>\n",
       "      <td>45.11</td>\n",
       "      <td>24.20</td>\n",
       "      <td>5.6463</td>\n",
       "      <td>34.406301</td>\n",
       "    </tr>\n",
       "  </tbody>\n",
       "</table>\n",
       "</div>"
      ],
      "text/plain": [
       "       country  Population     Area  Pop. Density  Coastline  Net migration  \\\n",
       "0  Afghanistan    31056997   647500         47.96       0.00          23.06   \n",
       "1      Albania     3581655    28748        124.59       1.26          -4.93   \n",
       "2      Algeria    32930091  2381740         13.83       0.04          -0.39   \n",
       "3      Andorra       71201      468        152.14       0.00           6.60   \n",
       "4       Angola    12127071  1246700          9.73       0.13           0.00   \n",
       "\n",
       "   Infant mortality      GDP  Literacy  Phones  Arable  Crops  Other  \\\n",
       "0            163.07    700.0      36.0    3.22   12.13   0.22  87.65   \n",
       "1             21.52   4500.0      86.5   71.20   21.09   4.42  74.49   \n",
       "2             31.00   6000.0      70.0   78.10    3.22   0.25  96.53   \n",
       "3              4.05  19000.0     100.0  497.18    2.22   0.00  97.78   \n",
       "4            191.19   1900.0      42.0    7.78    2.41   0.24  97.35   \n",
       "\n",
       "   Birthrate  Deathrate  total_litres_of_pure_alcohol      years  \n",
       "0      46.60      20.34                        0.0000  39.058115  \n",
       "1      15.11       5.22                        4.8675  49.981889  \n",
       "2      17.14       4.61                        0.6903  48.752299  \n",
       "3       8.71       6.25                       12.3015  57.340645  \n",
       "4      45.11      24.20                        5.6463  34.406301  "
      ]
     },
     "execution_count": 36,
     "metadata": {},
     "output_type": "execute_result"
    }
   ],
   "source": [
    "countries[\"country\"] = countries[\"country\"].map(lambda x: str(x)[:-1])\n",
    "alldata = pd.merge (countries, alc_year,  how = 'inner', on = \"country\")\n",
    "alldata.head()"
   ]
  },
  {
   "cell_type": "code",
   "execution_count": 37,
   "metadata": {},
   "outputs": [
    {
     "data": {
      "text/plain": [
       "157"
      ]
     },
     "execution_count": 37,
     "metadata": {},
     "output_type": "execute_result"
    }
   ],
   "source": [
    "len(alldata)"
   ]
  },
  {
   "cell_type": "code",
   "execution_count": null,
   "metadata": {},
   "outputs": [],
   "source": []
  },
  {
   "cell_type": "markdown",
   "metadata": {},
   "source": [
    "### 8.\tFind factors that are highly correlated to the expected lifetime"
   ]
  },
  {
   "cell_type": "code",
   "execution_count": 38,
   "metadata": {},
   "outputs": [
    {
     "data": {
      "text/html": [
       "<div>\n",
       "<style scoped>\n",
       "    .dataframe tbody tr th:only-of-type {\n",
       "        vertical-align: middle;\n",
       "    }\n",
       "\n",
       "    .dataframe tbody tr th {\n",
       "        vertical-align: top;\n",
       "    }\n",
       "\n",
       "    .dataframe thead th {\n",
       "        text-align: right;\n",
       "    }\n",
       "</style>\n",
       "<table border=\"1\" class=\"dataframe\">\n",
       "  <thead>\n",
       "    <tr style=\"text-align: right;\">\n",
       "      <th></th>\n",
       "      <th>Population</th>\n",
       "      <th>Area</th>\n",
       "      <th>Pop. Density</th>\n",
       "      <th>Coastline</th>\n",
       "      <th>Net migration</th>\n",
       "      <th>Infant mortality</th>\n",
       "      <th>GDP</th>\n",
       "      <th>Literacy</th>\n",
       "      <th>Phones</th>\n",
       "      <th>Arable</th>\n",
       "      <th>Crops</th>\n",
       "      <th>Other</th>\n",
       "      <th>Birthrate</th>\n",
       "      <th>Deathrate</th>\n",
       "      <th>total_litres_of_pure_alcohol</th>\n",
       "      <th>years</th>\n",
       "    </tr>\n",
       "  </thead>\n",
       "  <tbody>\n",
       "    <tr>\n",
       "      <th>Population</th>\n",
       "      <td>1.000000</td>\n",
       "      <td>0.535073</td>\n",
       "      <td>-0.015111</td>\n",
       "      <td>-0.065862</td>\n",
       "      <td>-0.012434</td>\n",
       "      <td>0.008445</td>\n",
       "      <td>-0.065219</td>\n",
       "      <td>-0.047277</td>\n",
       "      <td>-0.029757</td>\n",
       "      <td>0.197908</td>\n",
       "      <td>-0.053074</td>\n",
       "      <td>-0.138934</td>\n",
       "      <td>-0.060071</td>\n",
       "      <td>-0.064839</td>\n",
       "      <td>-0.033878</td>\n",
       "      <td>-0.005943</td>\n",
       "    </tr>\n",
       "    <tr>\n",
       "      <th>Area</th>\n",
       "      <td>0.535073</td>\n",
       "      <td>1.000000</td>\n",
       "      <td>-0.064780</td>\n",
       "      <td>-0.110140</td>\n",
       "      <td>0.067451</td>\n",
       "      <td>-0.014855</td>\n",
       "      <td>0.062664</td>\n",
       "      <td>0.013758</td>\n",
       "      <td>0.066790</td>\n",
       "      <td>-0.109756</td>\n",
       "      <td>-0.165267</td>\n",
       "      <td>0.167951</td>\n",
       "      <td>-0.065931</td>\n",
       "      <td>-0.059460</td>\n",
       "      <td>0.065310</td>\n",
       "      <td>0.048161</td>\n",
       "    </tr>\n",
       "    <tr>\n",
       "      <th>Pop. Density</th>\n",
       "      <td>-0.015111</td>\n",
       "      <td>-0.064780</td>\n",
       "      <td>1.000000</td>\n",
       "      <td>0.414879</td>\n",
       "      <td>0.219955</td>\n",
       "      <td>-0.118805</td>\n",
       "      <td>0.193771</td>\n",
       "      <td>0.089462</td>\n",
       "      <td>0.368797</td>\n",
       "      <td>-0.056821</td>\n",
       "      <td>-0.032563</td>\n",
       "      <td>0.062207</td>\n",
       "      <td>-0.141931</td>\n",
       "      <td>-0.013666</td>\n",
       "      <td>-0.114611</td>\n",
       "      <td>0.170919</td>\n",
       "    </tr>\n",
       "    <tr>\n",
       "      <th>Coastline</th>\n",
       "      <td>-0.065862</td>\n",
       "      <td>-0.110140</td>\n",
       "      <td>0.414879</td>\n",
       "      <td>1.000000</td>\n",
       "      <td>0.053572</td>\n",
       "      <td>-0.126036</td>\n",
       "      <td>0.013954</td>\n",
       "      <td>0.111219</td>\n",
       "      <td>0.167990</td>\n",
       "      <td>-0.125957</td>\n",
       "      <td>0.261920</td>\n",
       "      <td>-0.018028</td>\n",
       "      <td>-0.058243</td>\n",
       "      <td>-0.111004</td>\n",
       "      <td>-0.077660</td>\n",
       "      <td>0.103336</td>\n",
       "    </tr>\n",
       "    <tr>\n",
       "      <th>Net migration</th>\n",
       "      <td>-0.012434</td>\n",
       "      <td>0.067451</td>\n",
       "      <td>0.219955</td>\n",
       "      <td>0.053572</td>\n",
       "      <td>1.000000</td>\n",
       "      <td>0.011925</td>\n",
       "      <td>0.427657</td>\n",
       "      <td>-0.049060</td>\n",
       "      <td>0.285724</td>\n",
       "      <td>-0.081455</td>\n",
       "      <td>-0.308506</td>\n",
       "      <td>0.211072</td>\n",
       "      <td>-0.050701</td>\n",
       "      <td>0.072567</td>\n",
       "      <td>-0.026805</td>\n",
       "      <td>0.132530</td>\n",
       "    </tr>\n",
       "    <tr>\n",
       "      <th>Infant mortality</th>\n",
       "      <td>0.008445</td>\n",
       "      <td>-0.014855</td>\n",
       "      <td>-0.118805</td>\n",
       "      <td>-0.126036</td>\n",
       "      <td>0.011925</td>\n",
       "      <td>1.000000</td>\n",
       "      <td>-0.595705</td>\n",
       "      <td>-0.754163</td>\n",
       "      <td>-0.668726</td>\n",
       "      <td>-0.138217</td>\n",
       "      <td>-0.101670</td>\n",
       "      <td>0.161849</td>\n",
       "      <td>0.850803</td>\n",
       "      <td>0.641482</td>\n",
       "      <td>-0.542708</td>\n",
       "      <td>-0.879819</td>\n",
       "    </tr>\n",
       "    <tr>\n",
       "      <th>GDP</th>\n",
       "      <td>-0.065219</td>\n",
       "      <td>0.062664</td>\n",
       "      <td>0.193771</td>\n",
       "      <td>0.013954</td>\n",
       "      <td>0.427657</td>\n",
       "      <td>-0.595705</td>\n",
       "      <td>1.000000</td>\n",
       "      <td>0.511213</td>\n",
       "      <td>0.862624</td>\n",
       "      <td>0.026413</td>\n",
       "      <td>-0.178789</td>\n",
       "      <td>0.061562</td>\n",
       "      <td>-0.650521</td>\n",
       "      <td>-0.191751</td>\n",
       "      <td>0.540955</td>\n",
       "      <td>0.712372</td>\n",
       "    </tr>\n",
       "    <tr>\n",
       "      <th>Literacy</th>\n",
       "      <td>-0.047277</td>\n",
       "      <td>0.013758</td>\n",
       "      <td>0.089462</td>\n",
       "      <td>0.111219</td>\n",
       "      <td>-0.049060</td>\n",
       "      <td>-0.754163</td>\n",
       "      <td>0.511213</td>\n",
       "      <td>1.000000</td>\n",
       "      <td>0.603653</td>\n",
       "      <td>0.101799</td>\n",
       "      <td>0.119795</td>\n",
       "      <td>-0.135380</td>\n",
       "      <td>-0.788539</td>\n",
       "      <td>-0.346938</td>\n",
       "      <td>0.616400</td>\n",
       "      <td>0.710606</td>\n",
       "    </tr>\n",
       "    <tr>\n",
       "      <th>Phones</th>\n",
       "      <td>-0.029757</td>\n",
       "      <td>0.066790</td>\n",
       "      <td>0.368797</td>\n",
       "      <td>0.167990</td>\n",
       "      <td>0.285724</td>\n",
       "      <td>-0.668726</td>\n",
       "      <td>0.862624</td>\n",
       "      <td>0.603653</td>\n",
       "      <td>1.000000</td>\n",
       "      <td>0.098002</td>\n",
       "      <td>-0.095913</td>\n",
       "      <td>-0.036240</td>\n",
       "      <td>-0.746345</td>\n",
       "      <td>-0.222242</td>\n",
       "      <td>0.593646</td>\n",
       "      <td>0.776249</td>\n",
       "    </tr>\n",
       "    <tr>\n",
       "      <th>Arable</th>\n",
       "      <td>0.197908</td>\n",
       "      <td>-0.109756</td>\n",
       "      <td>-0.056821</td>\n",
       "      <td>-0.125957</td>\n",
       "      <td>-0.081455</td>\n",
       "      <td>-0.138217</td>\n",
       "      <td>0.026413</td>\n",
       "      <td>0.101799</td>\n",
       "      <td>0.098002</td>\n",
       "      <td>1.000000</td>\n",
       "      <td>0.126925</td>\n",
       "      <td>-0.886416</td>\n",
       "      <td>-0.231006</td>\n",
       "      <td>0.028771</td>\n",
       "      <td>0.274970</td>\n",
       "      <td>0.080523</td>\n",
       "    </tr>\n",
       "    <tr>\n",
       "      <th>Crops</th>\n",
       "      <td>-0.053074</td>\n",
       "      <td>-0.165267</td>\n",
       "      <td>-0.032563</td>\n",
       "      <td>0.261920</td>\n",
       "      <td>-0.308506</td>\n",
       "      <td>-0.101670</td>\n",
       "      <td>-0.178789</td>\n",
       "      <td>0.119795</td>\n",
       "      <td>-0.095913</td>\n",
       "      <td>0.126925</td>\n",
       "      <td>1.000000</td>\n",
       "      <td>-0.571654</td>\n",
       "      <td>0.042104</td>\n",
       "      <td>-0.214009</td>\n",
       "      <td>-0.106805</td>\n",
       "      <td>0.017407</td>\n",
       "    </tr>\n",
       "    <tr>\n",
       "      <th>Other</th>\n",
       "      <td>-0.138934</td>\n",
       "      <td>0.167951</td>\n",
       "      <td>0.062207</td>\n",
       "      <td>-0.018028</td>\n",
       "      <td>0.211072</td>\n",
       "      <td>0.161849</td>\n",
       "      <td>0.061562</td>\n",
       "      <td>-0.135380</td>\n",
       "      <td>-0.036240</td>\n",
       "      <td>-0.886416</td>\n",
       "      <td>-0.571654</td>\n",
       "      <td>1.000000</td>\n",
       "      <td>0.170882</td>\n",
       "      <td>0.076250</td>\n",
       "      <td>-0.177574</td>\n",
       "      <td>-0.074762</td>\n",
       "    </tr>\n",
       "    <tr>\n",
       "      <th>Birthrate</th>\n",
       "      <td>-0.060071</td>\n",
       "      <td>-0.065931</td>\n",
       "      <td>-0.141931</td>\n",
       "      <td>-0.058243</td>\n",
       "      <td>-0.050701</td>\n",
       "      <td>0.850803</td>\n",
       "      <td>-0.650521</td>\n",
       "      <td>-0.788539</td>\n",
       "      <td>-0.746345</td>\n",
       "      <td>-0.231006</td>\n",
       "      <td>0.042104</td>\n",
       "      <td>0.170882</td>\n",
       "      <td>1.000000</td>\n",
       "      <td>0.392763</td>\n",
       "      <td>-0.672659</td>\n",
       "      <td>-0.849183</td>\n",
       "    </tr>\n",
       "    <tr>\n",
       "      <th>Deathrate</th>\n",
       "      <td>-0.064839</td>\n",
       "      <td>-0.059460</td>\n",
       "      <td>-0.013666</td>\n",
       "      <td>-0.111004</td>\n",
       "      <td>0.072567</td>\n",
       "      <td>0.641482</td>\n",
       "      <td>-0.191751</td>\n",
       "      <td>-0.346938</td>\n",
       "      <td>-0.222242</td>\n",
       "      <td>0.028771</td>\n",
       "      <td>-0.214009</td>\n",
       "      <td>0.076250</td>\n",
       "      <td>0.392763</td>\n",
       "      <td>1.000000</td>\n",
       "      <td>-0.040405</td>\n",
       "      <td>-0.637810</td>\n",
       "    </tr>\n",
       "    <tr>\n",
       "      <th>total_litres_of_pure_alcohol</th>\n",
       "      <td>-0.033878</td>\n",
       "      <td>0.065310</td>\n",
       "      <td>-0.114611</td>\n",
       "      <td>-0.077660</td>\n",
       "      <td>-0.026805</td>\n",
       "      <td>-0.542708</td>\n",
       "      <td>0.540955</td>\n",
       "      <td>0.616400</td>\n",
       "      <td>0.593646</td>\n",
       "      <td>0.274970</td>\n",
       "      <td>-0.106805</td>\n",
       "      <td>-0.177574</td>\n",
       "      <td>-0.672659</td>\n",
       "      <td>-0.040405</td>\n",
       "      <td>1.000000</td>\n",
       "      <td>0.549104</td>\n",
       "    </tr>\n",
       "    <tr>\n",
       "      <th>years</th>\n",
       "      <td>-0.005943</td>\n",
       "      <td>0.048161</td>\n",
       "      <td>0.170919</td>\n",
       "      <td>0.103336</td>\n",
       "      <td>0.132530</td>\n",
       "      <td>-0.879819</td>\n",
       "      <td>0.712372</td>\n",
       "      <td>0.710606</td>\n",
       "      <td>0.776249</td>\n",
       "      <td>0.080523</td>\n",
       "      <td>0.017407</td>\n",
       "      <td>-0.074762</td>\n",
       "      <td>-0.849183</td>\n",
       "      <td>-0.637810</td>\n",
       "      <td>0.549104</td>\n",
       "      <td>1.000000</td>\n",
       "    </tr>\n",
       "  </tbody>\n",
       "</table>\n",
       "</div>"
      ],
      "text/plain": [
       "                              Population      Area  Pop. Density  Coastline  \\\n",
       "Population                      1.000000  0.535073     -0.015111  -0.065862   \n",
       "Area                            0.535073  1.000000     -0.064780  -0.110140   \n",
       "Pop. Density                   -0.015111 -0.064780      1.000000   0.414879   \n",
       "Coastline                      -0.065862 -0.110140      0.414879   1.000000   \n",
       "Net migration                  -0.012434  0.067451      0.219955   0.053572   \n",
       "Infant mortality                0.008445 -0.014855     -0.118805  -0.126036   \n",
       "GDP                            -0.065219  0.062664      0.193771   0.013954   \n",
       "Literacy                       -0.047277  0.013758      0.089462   0.111219   \n",
       "Phones                         -0.029757  0.066790      0.368797   0.167990   \n",
       "Arable                          0.197908 -0.109756     -0.056821  -0.125957   \n",
       "Crops                          -0.053074 -0.165267     -0.032563   0.261920   \n",
       "Other                          -0.138934  0.167951      0.062207  -0.018028   \n",
       "Birthrate                      -0.060071 -0.065931     -0.141931  -0.058243   \n",
       "Deathrate                      -0.064839 -0.059460     -0.013666  -0.111004   \n",
       "total_litres_of_pure_alcohol   -0.033878  0.065310     -0.114611  -0.077660   \n",
       "years                          -0.005943  0.048161      0.170919   0.103336   \n",
       "\n",
       "                              Net migration  Infant mortality       GDP  \\\n",
       "Population                        -0.012434          0.008445 -0.065219   \n",
       "Area                               0.067451         -0.014855  0.062664   \n",
       "Pop. Density                       0.219955         -0.118805  0.193771   \n",
       "Coastline                          0.053572         -0.126036  0.013954   \n",
       "Net migration                      1.000000          0.011925  0.427657   \n",
       "Infant mortality                   0.011925          1.000000 -0.595705   \n",
       "GDP                                0.427657         -0.595705  1.000000   \n",
       "Literacy                          -0.049060         -0.754163  0.511213   \n",
       "Phones                             0.285724         -0.668726  0.862624   \n",
       "Arable                            -0.081455         -0.138217  0.026413   \n",
       "Crops                             -0.308506         -0.101670 -0.178789   \n",
       "Other                              0.211072          0.161849  0.061562   \n",
       "Birthrate                         -0.050701          0.850803 -0.650521   \n",
       "Deathrate                          0.072567          0.641482 -0.191751   \n",
       "total_litres_of_pure_alcohol      -0.026805         -0.542708  0.540955   \n",
       "years                              0.132530         -0.879819  0.712372   \n",
       "\n",
       "                              Literacy    Phones    Arable     Crops  \\\n",
       "Population                   -0.047277 -0.029757  0.197908 -0.053074   \n",
       "Area                          0.013758  0.066790 -0.109756 -0.165267   \n",
       "Pop. Density                  0.089462  0.368797 -0.056821 -0.032563   \n",
       "Coastline                     0.111219  0.167990 -0.125957  0.261920   \n",
       "Net migration                -0.049060  0.285724 -0.081455 -0.308506   \n",
       "Infant mortality             -0.754163 -0.668726 -0.138217 -0.101670   \n",
       "GDP                           0.511213  0.862624  0.026413 -0.178789   \n",
       "Literacy                      1.000000  0.603653  0.101799  0.119795   \n",
       "Phones                        0.603653  1.000000  0.098002 -0.095913   \n",
       "Arable                        0.101799  0.098002  1.000000  0.126925   \n",
       "Crops                         0.119795 -0.095913  0.126925  1.000000   \n",
       "Other                        -0.135380 -0.036240 -0.886416 -0.571654   \n",
       "Birthrate                    -0.788539 -0.746345 -0.231006  0.042104   \n",
       "Deathrate                    -0.346938 -0.222242  0.028771 -0.214009   \n",
       "total_litres_of_pure_alcohol  0.616400  0.593646  0.274970 -0.106805   \n",
       "years                         0.710606  0.776249  0.080523  0.017407   \n",
       "\n",
       "                                 Other  Birthrate  Deathrate  \\\n",
       "Population                   -0.138934  -0.060071  -0.064839   \n",
       "Area                          0.167951  -0.065931  -0.059460   \n",
       "Pop. Density                  0.062207  -0.141931  -0.013666   \n",
       "Coastline                    -0.018028  -0.058243  -0.111004   \n",
       "Net migration                 0.211072  -0.050701   0.072567   \n",
       "Infant mortality              0.161849   0.850803   0.641482   \n",
       "GDP                           0.061562  -0.650521  -0.191751   \n",
       "Literacy                     -0.135380  -0.788539  -0.346938   \n",
       "Phones                       -0.036240  -0.746345  -0.222242   \n",
       "Arable                       -0.886416  -0.231006   0.028771   \n",
       "Crops                        -0.571654   0.042104  -0.214009   \n",
       "Other                         1.000000   0.170882   0.076250   \n",
       "Birthrate                     0.170882   1.000000   0.392763   \n",
       "Deathrate                     0.076250   0.392763   1.000000   \n",
       "total_litres_of_pure_alcohol -0.177574  -0.672659  -0.040405   \n",
       "years                        -0.074762  -0.849183  -0.637810   \n",
       "\n",
       "                              total_litres_of_pure_alcohol     years  \n",
       "Population                                       -0.033878 -0.005943  \n",
       "Area                                              0.065310  0.048161  \n",
       "Pop. Density                                     -0.114611  0.170919  \n",
       "Coastline                                        -0.077660  0.103336  \n",
       "Net migration                                    -0.026805  0.132530  \n",
       "Infant mortality                                 -0.542708 -0.879819  \n",
       "GDP                                               0.540955  0.712372  \n",
       "Literacy                                          0.616400  0.710606  \n",
       "Phones                                            0.593646  0.776249  \n",
       "Arable                                            0.274970  0.080523  \n",
       "Crops                                            -0.106805  0.017407  \n",
       "Other                                            -0.177574 -0.074762  \n",
       "Birthrate                                        -0.672659 -0.849183  \n",
       "Deathrate                                        -0.040405 -0.637810  \n",
       "total_litres_of_pure_alcohol                      1.000000  0.549104  \n",
       "years                                             0.549104  1.000000  "
      ]
     },
     "execution_count": 38,
     "metadata": {},
     "output_type": "execute_result"
    }
   ],
   "source": [
    "corr_alldata = alldata.corr()\n",
    "corr_alldata"
   ]
  },
  {
   "cell_type": "code",
   "execution_count": 39,
   "metadata": {},
   "outputs": [
    {
     "data": {
      "image/png": "[encoded data removed]",
      "text/plain": [
       "<matplotlib.figure.Figure at 0x1a148b4080>"
      ]
     },
     "metadata": {},
     "output_type": "display_data"
    }
   ],
   "source": [
    "sns.heatmap(alldata.corr());"
   ]
  },
  {
   "cell_type": "code",
   "execution_count": null,
   "metadata": {},
   "outputs": [],
   "source": []
  },
  {
   "cell_type": "markdown",
   "metadata": {},
   "source": [
    "### 9.\tSummarize the insights, explain the most important factor"
   ]
  },
  {
   "cell_type": "markdown",
   "metadata": {},
   "source": [
    "During the process of preparing and merging datasets we lost some observations from our original datasets:\n",
    "\n",
    "* When merging \"drinks\" and \"life_exp\" we end up 167 observations instead of the original 195.\n",
    "\n",
    "* When merging \"counties\" with \"alc_year\" we end up 157 observations instead of the original 167.\n",
    "\n",
    "After all preprocessing and data merging activity is done, we can examine the table list of correlations of expected lifetime with the other variables in descending order:"
   ]
  },
  {
   "cell_type": "code",
   "execution_count": 40,
   "metadata": {},
   "outputs": [
    {
     "data": {
      "text/plain": [
       "Phones                          0.776249\n",
       "GDP                             0.712372\n",
       "Literacy                        0.710606\n",
       "total_litres_of_pure_alcohol    0.549104\n",
       "Pop. Density                    0.170919\n",
       "Net migration                   0.132530\n",
       "Coastline                       0.103336\n",
       "Arable                          0.080523\n",
       "Area                            0.048161\n",
       "Crops                           0.017407\n",
       "Population                     -0.005943\n",
       "Other                          -0.074762\n",
       "Deathrate                      -0.637810\n",
       "Birthrate                      -0.849183\n",
       "Infant mortality               -0.879819\n",
       "dtype: float64"
      ]
     },
     "execution_count": 40,
     "metadata": {},
     "output_type": "execute_result"
    }
   ],
   "source": [
    "alldata.corr().unstack().sort_values(ascending = False)[\"years\"][1:]\n"
   ]
  },
  {
   "cell_type": "markdown",
   "metadata": {},
   "source": [
    "What is absolutely not surprising is that there is strong positive correlation between expected lifetime and GDP. Since GDP and phone penetration (Phones) plus GDP and literacy (Literacy)are highly correlated by their nature (the higher the GDP the higher the phone penetration and the higher the GDP the higher the literacy), the correlation between expected lifetime and Phones plus expected lifetime and Literacy is obvious.\n"
   ]
  },
  {
   "cell_type": "markdown",
   "metadata": {},
   "source": [
    "#### Plot of \"expected lifetime\" and \"Phones\""
   ]
  },
  {
   "cell_type": "code",
   "execution_count": 41,
   "metadata": {},
   "outputs": [
    {
     "data": {
      "image/png": "[encoded data removed]",
      "text/plain": [
       "<matplotlib.figure.Figure at 0x10f70dd30>"
      ]
     },
     "metadata": {},
     "output_type": "display_data"
    }
   ],
   "source": [
    "sns.jointplot(x=\"years\", y= \"Phones\", data = alldata);\n"
   ]
  },
  {
   "cell_type": "markdown",
   "metadata": {},
   "source": [
    "#### Plot of \"expected lifetime\" and \"GDP\""
   ]
  },
  {
   "cell_type": "code",
   "execution_count": 42,
   "metadata": {},
   "outputs": [
    {
     "data": {
      "image/png": "[encoded data removed]",
      "text/plain": [
       "<matplotlib.figure.Figure at 0x1a148d2898>"
      ]
     },
     "metadata": {},
     "output_type": "display_data"
    }
   ],
   "source": [
    "sns.jointplot(x=\"years\", y= \"GDP\", data = alldata);"
   ]
  },
  {
   "cell_type": "markdown",
   "metadata": {},
   "source": [
    "#### Plot of \"expected lifetime\" and \"Literacy\""
   ]
  },
  {
   "cell_type": "code",
   "execution_count": 43,
   "metadata": {},
   "outputs": [
    {
     "data": {
      "image/png": "[encoded data removed]",
      "text/plain": [
       "<matplotlib.figure.Figure at 0x1a148d2438>"
      ]
     },
     "metadata": {},
     "output_type": "display_data"
    }
   ],
   "source": [
    "sns.jointplot(x=\"years\", y= \"Literacy\", data = alldata);"
   ]
  },
  {
   "cell_type": "markdown",
   "metadata": {},
   "source": [
    "At the same time what was really strange (at least for myself), that there is a positive and quite strong (0.55) correlation between the expected lifetime and the alcohol consumption (total_litres_of pure_alcohol). Since I do not believe that the more you drink the healthier you become, this correlation must come from the fact that people from wealthier counties usually drinks more than people from poorer countries. And there should be some religious aspects as well (muslin counties usually poorer and muslin people do not drink), but we don't have data is this dataset to examine this factor.\n"
   ]
  },
  {
   "cell_type": "markdown",
   "metadata": {},
   "source": [
    "#### Plot of \"expected lifetime\" and \"total_litres_of_alcohol\""
   ]
  },
  {
   "cell_type": "code",
   "execution_count": 44,
   "metadata": {},
   "outputs": [
    {
     "data": {
      "image/png": "[encoded data removed]",
      "text/plain": [
       "<matplotlib.figure.Figure at 0x1a148d2da0>"
      ]
     },
     "metadata": {},
     "output_type": "display_data"
    }
   ],
   "source": [
    "sns.jointplot(x=\"years\", y= \"total_litres_of_pure_alcohol\", data = alldata);"
   ]
  },
  {
   "cell_type": "markdown",
   "metadata": {},
   "source": [
    "From the other hand there is a strong negative correlation between expected lifetime and Deathrate plus expected lifetime and Infant mortality (the higher the Deathrate/Infant mortality, the lower the expected lifetime).\n",
    "\n",
    "The only interesting finding for me was the high negative correlation between the expected lifetime and the Birthrate for the first sight,. But after thinking it over it is quite obvious, that the highest birthrates are usually in countries where the GDP is the lowest and the infant mortality is the highest, so there must be a negative correlation.\n",
    "\n"
   ]
  },
  {
   "cell_type": "markdown",
   "metadata": {},
   "source": [
    "#### Plot of \"expected lifetime\" and \"Deathrate\""
   ]
  },
  {
   "cell_type": "code",
   "execution_count": 45,
   "metadata": {},
   "outputs": [
    {
     "data": {
      "image/png": "[encoded data removed]",
      "text/plain": [
       "<matplotlib.figure.Figure at 0x1a14892cc0>"
      ]
     },
     "metadata": {},
     "output_type": "display_data"
    }
   ],
   "source": [
    "sns.jointplot(x=\"years\", y= \"Deathrate\", data = alldata);"
   ]
  },
  {
   "cell_type": "markdown",
   "metadata": {},
   "source": [
    "#### Plot of \"expected lifetime\" and \"Birthrate\""
   ]
  },
  {
   "cell_type": "code",
   "execution_count": 46,
   "metadata": {},
   "outputs": [
    {
     "data": {
      "image/png": "[encoded data removed]",
      "text/plain": [
       "<matplotlib.figure.Figure at 0x1a1483d400>"
      ]
     },
     "metadata": {},
     "output_type": "display_data"
    }
   ],
   "source": [
    "sns.jointplot(x=\"years\", y= \"Birthrate\", data = alldata);"
   ]
  },
  {
   "cell_type": "markdown",
   "metadata": {},
   "source": [
    "#### Plot of \"expected lifetime\" and \"Infant mortality\""
   ]
  },
  {
   "cell_type": "code",
   "execution_count": 47,
   "metadata": {},
   "outputs": [
    {
     "data": {
      "image/png": "[encoded data removed]",
      "text/plain": [
       "<matplotlib.figure.Figure at 0x10fedd438>"
      ]
     },
     "metadata": {},
     "output_type": "display_data"
    }
   ],
   "source": [
    "sns.jointplot(x=\"years\", y= \"Infant mortality\", data = alldata);"
   ]
  },
  {
   "cell_type": "code",
   "execution_count": null,
   "metadata": {},
   "outputs": [],
   "source": []
  },
  {
   "cell_type": "code",
   "execution_count": null,
   "metadata": {},
   "outputs": [],
   "source": []
  }
 ],
 "metadata": {
  "kernelspec": {
   "display_name": "Python 3",
   "language": "python",
   "name": "python3"
  },
  "language_info": {
   "codemirror_mode": {
    "name": "ipython",
    "version": 3
   },
   "file_extension": ".py",
   "mimetype": "text/x-python",
   "name": "python",
   "nbconvert_exporter": "python",
   "pygments_lexer": "ipython3",
   "version": "3.6.4"
  }
 },
 "nbformat": 4,
 "nbformat_minor": 2
}
